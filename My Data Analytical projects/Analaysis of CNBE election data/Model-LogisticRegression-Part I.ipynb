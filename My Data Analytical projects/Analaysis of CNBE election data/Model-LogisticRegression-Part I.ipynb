{
 "cells": [
  {
   "cell_type": "markdown",
   "metadata": {},
   "source": [
    "**Problem Statement**\n",
    "\n",
    "You are hired by one of the leading news channels CNBE who wants to analyze recent elections. This survey was conducted on 1525 voters with 9 variables. You have to build a model, to predict which party a voter will vote for on the basis of the given information, to create an exit poll that will help in predicting overall win and seats covered by a particular party.\n",
    "\n",
    "Dataset for Problem: Election_Data.xlsx\n",
    "\n",
    "Data Ingestion: 12 marks\n",
    "1. Read the dataset. Do the descriptive statistics and do the null value condition check. Write an inference on it. (5 Marks)\n",
    "2. Perform Univariate and Bivariate Analysis. Do exploratory data analysis. Check for Outliers. (7 Marks)\n",
    "\n",
    "Data Preparation: 5 marks\n",
    "1. Encode the data (having string values) for Modelling. Is Scaling necessary here or not? Data Split: Split the data into train and test (70:30). (5 Marks)\n",
    "\n",
    "Modelling: 28 marks\n",
    "1. Apply Logistic Regression and LDA (linear discriminant analysis). (5 marks)\n",
    "2. Apply KNN Model and Naïve Bayes Model. Interpret the results. (7 marks)\n",
    "3. Model Tuning, Bagging (Random Forest should be applied for Bagging), and Boosting. (9 marks)\n",
    "4. Performance Metrics: Check the performance of Predictions on Train and Test sets using Accuracy, Confusion Matrix, Plot ROC curve and get ROC_AUC score for each model. Final Model: Compare the models and write inference which model is best/optimized. (7 marks)\n",
    "\n",
    "\n",
    "Inference: 5 marks\n",
    "1. Based on these predictions, what are the insights? (5 marks)\n",
    "\n",
    "Important Note: Please reflect on all that you have learned while working on this project. This step is critical in cementing all your concepts and closing the loop. Please write down your thoughts here."
   ]
  },
  {
   "cell_type": "markdown",
   "metadata": {},
   "source": [
    "**Data Dictionary**\n",
    "\n",
    "1. vote: Party choice: Conservative or Labour\n",
    "\n",
    "2. age: in years\n",
    "\n",
    "3. economic.cond.national: Assessment of current national economic conditions, 1 to 5.\n",
    "\n",
    "4. economic.cond.household: Assessment of current household economic conditions, 1 to 5.\n",
    "\n",
    "5. Blair: Assessment of the Labour leader, 1 to 5.\n",
    "\n",
    "6. Hague: Assessment of the Conservative leader, 1 to 5.\n",
    "\n",
    "7. Europe: an 11-point scale that measures respondents' attitudes toward European integration. High scores represent ‘Eurosceptic’ sentiment.\n",
    "\n",
    "8. political.knowledge: Knowledge of parties' positions on European integration, 0 to 3.\n",
    "\n",
    "9. gender: female or male.\n"
   ]
  },
  {
   "cell_type": "markdown",
   "metadata": {},
   "source": [
    "# Read the dataset. Do the descriptive statistics and do the null value condition check. Write an inference on it. (5 Marks)"
   ]
  },
  {
   "cell_type": "code",
   "execution_count": 120,
   "metadata": {},
   "outputs": [],
   "source": [
    "# import libraries\n",
    "\n",
    "import pandas as pd\n",
    "import numpy as np\n",
    "import seaborn as sns\n",
    "import matplotlib.pyplot as plt\n",
    "%matplotlib inline"
   ]
  },
  {
   "cell_type": "code",
   "execution_count": 121,
   "metadata": {},
   "outputs": [
    {
     "name": "stdout",
     "output_type": "stream",
     "text": [
      "ERROR! Session/line number was not unique in database. History logging moved to new session 114\n"
     ]
    }
   ],
   "source": [
    "# read the excel file\n",
    "\n",
    "sheets = pd.read_excel('Election_Data.xlsx', sheet_name=None)"
   ]
  },
  {
   "cell_type": "code",
   "execution_count": 122,
   "metadata": {},
   "outputs": [
    {
     "data": {
      "text/html": [
       "<div>\n",
       "<style scoped>\n",
       "    .dataframe tbody tr th:only-of-type {\n",
       "        vertical-align: middle;\n",
       "    }\n",
       "\n",
       "    .dataframe tbody tr th {\n",
       "        vertical-align: top;\n",
       "    }\n",
       "\n",
       "    .dataframe thead th {\n",
       "        text-align: right;\n",
       "    }\n",
       "</style>\n",
       "<table border=\"1\" class=\"dataframe\">\n",
       "  <thead>\n",
       "    <tr style=\"text-align: right;\">\n",
       "      <th></th>\n",
       "      <th>Unnamed: 0</th>\n",
       "      <th>vote</th>\n",
       "      <th>age</th>\n",
       "      <th>economic.cond.national</th>\n",
       "      <th>economic.cond.household</th>\n",
       "      <th>Blair</th>\n",
       "      <th>Hague</th>\n",
       "      <th>Europe</th>\n",
       "      <th>political.knowledge</th>\n",
       "      <th>gender</th>\n",
       "    </tr>\n",
       "  </thead>\n",
       "  <tbody>\n",
       "    <tr>\n",
       "      <th>0</th>\n",
       "      <td>1</td>\n",
       "      <td>Labour</td>\n",
       "      <td>43</td>\n",
       "      <td>3</td>\n",
       "      <td>3</td>\n",
       "      <td>4</td>\n",
       "      <td>1</td>\n",
       "      <td>2</td>\n",
       "      <td>2</td>\n",
       "      <td>female</td>\n",
       "    </tr>\n",
       "    <tr>\n",
       "      <th>1</th>\n",
       "      <td>2</td>\n",
       "      <td>Labour</td>\n",
       "      <td>36</td>\n",
       "      <td>4</td>\n",
       "      <td>4</td>\n",
       "      <td>4</td>\n",
       "      <td>4</td>\n",
       "      <td>5</td>\n",
       "      <td>2</td>\n",
       "      <td>male</td>\n",
       "    </tr>\n",
       "    <tr>\n",
       "      <th>2</th>\n",
       "      <td>3</td>\n",
       "      <td>Labour</td>\n",
       "      <td>35</td>\n",
       "      <td>4</td>\n",
       "      <td>4</td>\n",
       "      <td>5</td>\n",
       "      <td>2</td>\n",
       "      <td>3</td>\n",
       "      <td>2</td>\n",
       "      <td>male</td>\n",
       "    </tr>\n",
       "    <tr>\n",
       "      <th>3</th>\n",
       "      <td>4</td>\n",
       "      <td>Labour</td>\n",
       "      <td>24</td>\n",
       "      <td>4</td>\n",
       "      <td>2</td>\n",
       "      <td>2</td>\n",
       "      <td>1</td>\n",
       "      <td>4</td>\n",
       "      <td>0</td>\n",
       "      <td>female</td>\n",
       "    </tr>\n",
       "    <tr>\n",
       "      <th>4</th>\n",
       "      <td>5</td>\n",
       "      <td>Labour</td>\n",
       "      <td>41</td>\n",
       "      <td>2</td>\n",
       "      <td>2</td>\n",
       "      <td>1</td>\n",
       "      <td>1</td>\n",
       "      <td>6</td>\n",
       "      <td>2</td>\n",
       "      <td>male</td>\n",
       "    </tr>\n",
       "  </tbody>\n",
       "</table>\n",
       "</div>"
      ],
      "text/plain": [
       "   Unnamed: 0    vote  age  economic.cond.national  economic.cond.household  \\\n",
       "0           1  Labour   43                       3                        3   \n",
       "1           2  Labour   36                       4                        4   \n",
       "2           3  Labour   35                       4                        4   \n",
       "3           4  Labour   24                       4                        2   \n",
       "4           5  Labour   41                       2                        2   \n",
       "\n",
       "   Blair  Hague  Europe  political.knowledge  gender  \n",
       "0      4      1       2                    2  female  \n",
       "1      4      4       5                    2    male  \n",
       "2      5      2       3                    2    male  \n",
       "3      2      1       4                    0  female  \n",
       "4      1      1       6                    2    male  "
      ]
     },
     "execution_count": 122,
     "metadata": {},
     "output_type": "execute_result"
    }
   ],
   "source": [
    "# import dataset\n",
    "\n",
    "df = pd.read_excel('Election_Data.xlsx', sheet_name='Election_Dataset_Two Classes')\n",
    "df.head()"
   ]
  },
  {
   "cell_type": "code",
   "execution_count": 123,
   "metadata": {},
   "outputs": [
    {
     "data": {
      "text/plain": [
       "(1525, 10)"
      ]
     },
     "execution_count": 123,
     "metadata": {},
     "output_type": "execute_result"
    }
   ],
   "source": [
    "df.shape"
   ]
  },
  {
   "cell_type": "code",
   "execution_count": 124,
   "metadata": {},
   "outputs": [
    {
     "name": "stdout",
     "output_type": "stream",
     "text": [
      "<class 'pandas.core.frame.DataFrame'>\n",
      "RangeIndex: 1525 entries, 0 to 1524\n",
      "Data columns (total 10 columns):\n",
      " #   Column                   Non-Null Count  Dtype \n",
      "---  ------                   --------------  ----- \n",
      " 0   Unnamed: 0               1525 non-null   int64 \n",
      " 1   vote                     1525 non-null   object\n",
      " 2   age                      1525 non-null   int64 \n",
      " 3   economic.cond.national   1525 non-null   int64 \n",
      " 4   economic.cond.household  1525 non-null   int64 \n",
      " 5   Blair                    1525 non-null   int64 \n",
      " 6   Hague                    1525 non-null   int64 \n",
      " 7   Europe                   1525 non-null   int64 \n",
      " 8   political.knowledge      1525 non-null   int64 \n",
      " 9   gender                   1525 non-null   object\n",
      "dtypes: int64(8), object(2)\n",
      "memory usage: 119.3+ KB\n"
     ]
    }
   ],
   "source": [
    "# check information\n",
    "\n",
    "df.info()"
   ]
  },
  {
   "cell_type": "code",
   "execution_count": 125,
   "metadata": {},
   "outputs": [
    {
     "data": {
      "text/plain": [
       "0"
      ]
     },
     "execution_count": 125,
     "metadata": {},
     "output_type": "execute_result"
    }
   ],
   "source": [
    "df.duplicated().sum()"
   ]
  },
  {
   "cell_type": "code",
   "execution_count": 126,
   "metadata": {},
   "outputs": [
    {
     "data": {
      "text/html": [
       "<div>\n",
       "<style scoped>\n",
       "    .dataframe tbody tr th:only-of-type {\n",
       "        vertical-align: middle;\n",
       "    }\n",
       "\n",
       "    .dataframe tbody tr th {\n",
       "        vertical-align: top;\n",
       "    }\n",
       "\n",
       "    .dataframe thead th {\n",
       "        text-align: right;\n",
       "    }\n",
       "</style>\n",
       "<table border=\"1\" class=\"dataframe\">\n",
       "  <thead>\n",
       "    <tr style=\"text-align: right;\">\n",
       "      <th></th>\n",
       "      <th>count</th>\n",
       "      <th>mean</th>\n",
       "      <th>std</th>\n",
       "      <th>min</th>\n",
       "      <th>25%</th>\n",
       "      <th>50%</th>\n",
       "      <th>75%</th>\n",
       "      <th>max</th>\n",
       "    </tr>\n",
       "  </thead>\n",
       "  <tbody>\n",
       "    <tr>\n",
       "      <th>Unnamed: 0</th>\n",
       "      <td>1525.0</td>\n",
       "      <td>763.000000</td>\n",
       "      <td>440.373894</td>\n",
       "      <td>1.0</td>\n",
       "      <td>382.0</td>\n",
       "      <td>763.0</td>\n",
       "      <td>1144.0</td>\n",
       "      <td>1525.0</td>\n",
       "    </tr>\n",
       "    <tr>\n",
       "      <th>age</th>\n",
       "      <td>1525.0</td>\n",
       "      <td>54.182295</td>\n",
       "      <td>15.711209</td>\n",
       "      <td>24.0</td>\n",
       "      <td>41.0</td>\n",
       "      <td>53.0</td>\n",
       "      <td>67.0</td>\n",
       "      <td>93.0</td>\n",
       "    </tr>\n",
       "    <tr>\n",
       "      <th>economic.cond.national</th>\n",
       "      <td>1525.0</td>\n",
       "      <td>3.245902</td>\n",
       "      <td>0.880969</td>\n",
       "      <td>1.0</td>\n",
       "      <td>3.0</td>\n",
       "      <td>3.0</td>\n",
       "      <td>4.0</td>\n",
       "      <td>5.0</td>\n",
       "    </tr>\n",
       "    <tr>\n",
       "      <th>economic.cond.household</th>\n",
       "      <td>1525.0</td>\n",
       "      <td>3.140328</td>\n",
       "      <td>0.929951</td>\n",
       "      <td>1.0</td>\n",
       "      <td>3.0</td>\n",
       "      <td>3.0</td>\n",
       "      <td>4.0</td>\n",
       "      <td>5.0</td>\n",
       "    </tr>\n",
       "    <tr>\n",
       "      <th>Blair</th>\n",
       "      <td>1525.0</td>\n",
       "      <td>3.334426</td>\n",
       "      <td>1.174824</td>\n",
       "      <td>1.0</td>\n",
       "      <td>2.0</td>\n",
       "      <td>4.0</td>\n",
       "      <td>4.0</td>\n",
       "      <td>5.0</td>\n",
       "    </tr>\n",
       "    <tr>\n",
       "      <th>Hague</th>\n",
       "      <td>1525.0</td>\n",
       "      <td>2.746885</td>\n",
       "      <td>1.230703</td>\n",
       "      <td>1.0</td>\n",
       "      <td>2.0</td>\n",
       "      <td>2.0</td>\n",
       "      <td>4.0</td>\n",
       "      <td>5.0</td>\n",
       "    </tr>\n",
       "    <tr>\n",
       "      <th>Europe</th>\n",
       "      <td>1525.0</td>\n",
       "      <td>6.728525</td>\n",
       "      <td>3.297538</td>\n",
       "      <td>1.0</td>\n",
       "      <td>4.0</td>\n",
       "      <td>6.0</td>\n",
       "      <td>10.0</td>\n",
       "      <td>11.0</td>\n",
       "    </tr>\n",
       "    <tr>\n",
       "      <th>political.knowledge</th>\n",
       "      <td>1525.0</td>\n",
       "      <td>1.542295</td>\n",
       "      <td>1.083315</td>\n",
       "      <td>0.0</td>\n",
       "      <td>0.0</td>\n",
       "      <td>2.0</td>\n",
       "      <td>2.0</td>\n",
       "      <td>3.0</td>\n",
       "    </tr>\n",
       "  </tbody>\n",
       "</table>\n",
       "</div>"
      ],
      "text/plain": [
       "                          count        mean         std   min    25%    50%  \\\n",
       "Unnamed: 0               1525.0  763.000000  440.373894   1.0  382.0  763.0   \n",
       "age                      1525.0   54.182295   15.711209  24.0   41.0   53.0   \n",
       "economic.cond.national   1525.0    3.245902    0.880969   1.0    3.0    3.0   \n",
       "economic.cond.household  1525.0    3.140328    0.929951   1.0    3.0    3.0   \n",
       "Blair                    1525.0    3.334426    1.174824   1.0    2.0    4.0   \n",
       "Hague                    1525.0    2.746885    1.230703   1.0    2.0    2.0   \n",
       "Europe                   1525.0    6.728525    3.297538   1.0    4.0    6.0   \n",
       "political.knowledge      1525.0    1.542295    1.083315   0.0    0.0    2.0   \n",
       "\n",
       "                            75%     max  \n",
       "Unnamed: 0               1144.0  1525.0  \n",
       "age                        67.0    93.0  \n",
       "economic.cond.national      4.0     5.0  \n",
       "economic.cond.household     4.0     5.0  \n",
       "Blair                       4.0     5.0  \n",
       "Hague                       4.0     5.0  \n",
       "Europe                     10.0    11.0  \n",
       "political.knowledge         2.0     3.0  "
      ]
     },
     "execution_count": 126,
     "metadata": {},
     "output_type": "execute_result"
    }
   ],
   "source": [
    "# check data description\n",
    "\n",
    "df.describe().T"
   ]
  },
  {
   "cell_type": "code",
   "execution_count": 127,
   "metadata": {},
   "outputs": [
    {
     "data": {
      "text/html": [
       "<div>\n",
       "<style scoped>\n",
       "    .dataframe tbody tr th:only-of-type {\n",
       "        vertical-align: middle;\n",
       "    }\n",
       "\n",
       "    .dataframe tbody tr th {\n",
       "        vertical-align: top;\n",
       "    }\n",
       "\n",
       "    .dataframe thead th {\n",
       "        text-align: right;\n",
       "    }\n",
       "</style>\n",
       "<table border=\"1\" class=\"dataframe\">\n",
       "  <thead>\n",
       "    <tr style=\"text-align: right;\">\n",
       "      <th></th>\n",
       "      <th>vote</th>\n",
       "      <th>gender</th>\n",
       "    </tr>\n",
       "  </thead>\n",
       "  <tbody>\n",
       "    <tr>\n",
       "      <th>count</th>\n",
       "      <td>1525</td>\n",
       "      <td>1525</td>\n",
       "    </tr>\n",
       "    <tr>\n",
       "      <th>unique</th>\n",
       "      <td>2</td>\n",
       "      <td>2</td>\n",
       "    </tr>\n",
       "    <tr>\n",
       "      <th>top</th>\n",
       "      <td>Labour</td>\n",
       "      <td>female</td>\n",
       "    </tr>\n",
       "    <tr>\n",
       "      <th>freq</th>\n",
       "      <td>1063</td>\n",
       "      <td>812</td>\n",
       "    </tr>\n",
       "  </tbody>\n",
       "</table>\n",
       "</div>"
      ],
      "text/plain": [
       "          vote  gender\n",
       "count     1525    1525\n",
       "unique       2       2\n",
       "top     Labour  female\n",
       "freq      1063     812"
      ]
     },
     "execution_count": 127,
     "metadata": {},
     "output_type": "execute_result"
    }
   ],
   "source": [
    "df.describe(include='object')"
   ]
  },
  {
   "cell_type": "code",
   "execution_count": 128,
   "metadata": {},
   "outputs": [
    {
     "name": "stdout",
     "output_type": "stream",
     "text": [
      "Dataset has 1525 rows and 10 columns\n"
     ]
    }
   ],
   "source": [
    "# Check the dimensions of Dataset\n",
    "\n",
    "print('Dataset has {} rows and {} columns'.format(df.shape[0],df.shape[1]))"
   ]
  },
  {
   "cell_type": "code",
   "execution_count": 129,
   "metadata": {},
   "outputs": [
    {
     "name": "stdout",
     "output_type": "stream",
     "text": [
      "The dataset has 0 duplicate entries\n"
     ]
    }
   ],
   "source": [
    "# Check if there are any duplicated enetries in the dataset\n",
    "\n",
    "print('The dataset has {} duplicate entries'.format(df.duplicated().sum()))"
   ]
  },
  {
   "cell_type": "code",
   "execution_count": 130,
   "metadata": {},
   "outputs": [
    {
     "name": "stdout",
     "output_type": "stream",
     "text": [
      "There are 0 null values in the dataset as all the columns have 1525 non-null count.\n",
      "\n",
      "There are 10 columns with following datatypes :\n",
      "int64     8\n",
      "object    2\n",
      "dtype: int64\n",
      "\n",
      "\n"
     ]
    }
   ],
   "source": [
    "# Check the information of each column/variable like no of not-null values and datatype of each variable\n",
    "\n",
    "print('There are {} null values in the dataset as all the columns have {} non-null count.\\\n",
    "\\n\\nThere are {} columns with following datatypes :\\n{}\\n\\n'.\n",
    "      format(df.isnull().sum().sum(),df.shape[0],len(df.columns),df.dtypes.value_counts()))"
   ]
  },
  {
   "cell_type": "code",
   "execution_count": 131,
   "metadata": {},
   "outputs": [
    {
     "name": "stdout",
     "output_type": "stream",
     "text": [
      "<class 'pandas.core.frame.DataFrame'>\n",
      "RangeIndex: 1525 entries, 0 to 1524\n",
      "Data columns (total 10 columns):\n",
      " #   Column                   Non-Null Count  Dtype \n",
      "---  ------                   --------------  ----- \n",
      " 0   Unnamed: 0               1525 non-null   int64 \n",
      " 1   vote                     1525 non-null   object\n",
      " 2   age                      1525 non-null   int64 \n",
      " 3   economic.cond.national   1525 non-null   int64 \n",
      " 4   economic.cond.household  1525 non-null   int64 \n",
      " 5   Blair                    1525 non-null   int64 \n",
      " 6   Hague                    1525 non-null   int64 \n",
      " 7   Europe                   1525 non-null   int64 \n",
      " 8   political.knowledge      1525 non-null   int64 \n",
      " 9   gender                   1525 non-null   object\n",
      "dtypes: int64(8), object(2)\n",
      "memory usage: 119.3+ KB\n"
     ]
    }
   ],
   "source": [
    "#Checking information about columns\n",
    "df.info()"
   ]
  },
  {
   "cell_type": "code",
   "execution_count": 132,
   "metadata": {},
   "outputs": [
    {
     "data": {
      "text/plain": [
       "Labour          1063\n",
       "Conservative     462\n",
       "Name: vote, dtype: int64"
      ]
     },
     "execution_count": 132,
     "metadata": {},
     "output_type": "execute_result"
    }
   ],
   "source": [
    "df['vote'].value_counts()"
   ]
  },
  {
   "cell_type": "code",
   "execution_count": 133,
   "metadata": {},
   "outputs": [
    {
     "name": "stdout",
     "output_type": "stream",
     "text": [
      "Column vote has 2 unique values:\n",
      "Labour          1063\n",
      "Conservative     462\n",
      "Name: vote, dtype: int64\n",
      "===========================================================\n",
      "\n",
      "Column gender has 2 unique values:\n",
      "female    812\n",
      "male      713\n",
      "Name: gender, dtype: int64\n",
      "===========================================================\n",
      "\n"
     ]
    }
   ],
   "source": [
    "# Check the object columns and relate for the types of values and counts \n",
    "\n",
    "for col in (df.select_dtypes(['object'])).columns:\n",
    "    print('Column {} has {} unique values:\\n{}'.format(col,len(df[col].unique()),df[col].value_counts(dropna=False)))\n",
    "    print('===========================================================\\n')"
   ]
  },
  {
   "cell_type": "code",
   "execution_count": 134,
   "metadata": {},
   "outputs": [
    {
     "data": {
      "text/html": [
       "<div>\n",
       "<style scoped>\n",
       "    .dataframe tbody tr th:only-of-type {\n",
       "        vertical-align: middle;\n",
       "    }\n",
       "\n",
       "    .dataframe tbody tr th {\n",
       "        vertical-align: top;\n",
       "    }\n",
       "\n",
       "    .dataframe thead th {\n",
       "        text-align: right;\n",
       "    }\n",
       "</style>\n",
       "<table border=\"1\" class=\"dataframe\">\n",
       "  <thead>\n",
       "    <tr style=\"text-align: right;\">\n",
       "      <th></th>\n",
       "      <th>count</th>\n",
       "      <th>mean</th>\n",
       "      <th>std</th>\n",
       "      <th>min</th>\n",
       "      <th>25%</th>\n",
       "      <th>50%</th>\n",
       "      <th>75%</th>\n",
       "      <th>max</th>\n",
       "    </tr>\n",
       "  </thead>\n",
       "  <tbody>\n",
       "    <tr>\n",
       "      <th>Unnamed: 0</th>\n",
       "      <td>1525.0</td>\n",
       "      <td>763.000000</td>\n",
       "      <td>440.373894</td>\n",
       "      <td>1.0</td>\n",
       "      <td>382.0</td>\n",
       "      <td>763.0</td>\n",
       "      <td>1144.0</td>\n",
       "      <td>1525.0</td>\n",
       "    </tr>\n",
       "    <tr>\n",
       "      <th>age</th>\n",
       "      <td>1525.0</td>\n",
       "      <td>54.182295</td>\n",
       "      <td>15.711209</td>\n",
       "      <td>24.0</td>\n",
       "      <td>41.0</td>\n",
       "      <td>53.0</td>\n",
       "      <td>67.0</td>\n",
       "      <td>93.0</td>\n",
       "    </tr>\n",
       "    <tr>\n",
       "      <th>economic.cond.national</th>\n",
       "      <td>1525.0</td>\n",
       "      <td>3.245902</td>\n",
       "      <td>0.880969</td>\n",
       "      <td>1.0</td>\n",
       "      <td>3.0</td>\n",
       "      <td>3.0</td>\n",
       "      <td>4.0</td>\n",
       "      <td>5.0</td>\n",
       "    </tr>\n",
       "    <tr>\n",
       "      <th>economic.cond.household</th>\n",
       "      <td>1525.0</td>\n",
       "      <td>3.140328</td>\n",
       "      <td>0.929951</td>\n",
       "      <td>1.0</td>\n",
       "      <td>3.0</td>\n",
       "      <td>3.0</td>\n",
       "      <td>4.0</td>\n",
       "      <td>5.0</td>\n",
       "    </tr>\n",
       "    <tr>\n",
       "      <th>Blair</th>\n",
       "      <td>1525.0</td>\n",
       "      <td>3.334426</td>\n",
       "      <td>1.174824</td>\n",
       "      <td>1.0</td>\n",
       "      <td>2.0</td>\n",
       "      <td>4.0</td>\n",
       "      <td>4.0</td>\n",
       "      <td>5.0</td>\n",
       "    </tr>\n",
       "    <tr>\n",
       "      <th>Hague</th>\n",
       "      <td>1525.0</td>\n",
       "      <td>2.746885</td>\n",
       "      <td>1.230703</td>\n",
       "      <td>1.0</td>\n",
       "      <td>2.0</td>\n",
       "      <td>2.0</td>\n",
       "      <td>4.0</td>\n",
       "      <td>5.0</td>\n",
       "    </tr>\n",
       "    <tr>\n",
       "      <th>Europe</th>\n",
       "      <td>1525.0</td>\n",
       "      <td>6.728525</td>\n",
       "      <td>3.297538</td>\n",
       "      <td>1.0</td>\n",
       "      <td>4.0</td>\n",
       "      <td>6.0</td>\n",
       "      <td>10.0</td>\n",
       "      <td>11.0</td>\n",
       "    </tr>\n",
       "    <tr>\n",
       "      <th>political.knowledge</th>\n",
       "      <td>1525.0</td>\n",
       "      <td>1.542295</td>\n",
       "      <td>1.083315</td>\n",
       "      <td>0.0</td>\n",
       "      <td>0.0</td>\n",
       "      <td>2.0</td>\n",
       "      <td>2.0</td>\n",
       "      <td>3.0</td>\n",
       "    </tr>\n",
       "  </tbody>\n",
       "</table>\n",
       "</div>"
      ],
      "text/plain": [
       "                          count        mean         std   min    25%    50%  \\\n",
       "Unnamed: 0               1525.0  763.000000  440.373894   1.0  382.0  763.0   \n",
       "age                      1525.0   54.182295   15.711209  24.0   41.0   53.0   \n",
       "economic.cond.national   1525.0    3.245902    0.880969   1.0    3.0    3.0   \n",
       "economic.cond.household  1525.0    3.140328    0.929951   1.0    3.0    3.0   \n",
       "Blair                    1525.0    3.334426    1.174824   1.0    2.0    4.0   \n",
       "Hague                    1525.0    2.746885    1.230703   1.0    2.0    2.0   \n",
       "Europe                   1525.0    6.728525    3.297538   1.0    4.0    6.0   \n",
       "political.knowledge      1525.0    1.542295    1.083315   0.0    0.0    2.0   \n",
       "\n",
       "                            75%     max  \n",
       "Unnamed: 0               1144.0  1525.0  \n",
       "age                        67.0    93.0  \n",
       "economic.cond.national      4.0     5.0  \n",
       "economic.cond.household     4.0     5.0  \n",
       "Blair                       4.0     5.0  \n",
       "Hague                       4.0     5.0  \n",
       "Europe                     10.0    11.0  \n",
       "political.knowledge         2.0     3.0  "
      ]
     },
     "execution_count": 134,
     "metadata": {},
     "output_type": "execute_result"
    }
   ],
   "source": [
    "# check five-point summary\n",
    "\n",
    "df.describe().transpose()"
   ]
  },
  {
   "cell_type": "code",
   "execution_count": 135,
   "metadata": {},
   "outputs": [
    {
     "data": {
      "text/html": [
       "<div>\n",
       "<style scoped>\n",
       "    .dataframe tbody tr th:only-of-type {\n",
       "        vertical-align: middle;\n",
       "    }\n",
       "\n",
       "    .dataframe tbody tr th {\n",
       "        vertical-align: top;\n",
       "    }\n",
       "\n",
       "    .dataframe thead th {\n",
       "        text-align: right;\n",
       "    }\n",
       "</style>\n",
       "<table border=\"1\" class=\"dataframe\">\n",
       "  <thead>\n",
       "    <tr style=\"text-align: right;\">\n",
       "      <th></th>\n",
       "      <th>count</th>\n",
       "      <th>unique</th>\n",
       "      <th>top</th>\n",
       "      <th>freq</th>\n",
       "    </tr>\n",
       "  </thead>\n",
       "  <tbody>\n",
       "    <tr>\n",
       "      <th>vote</th>\n",
       "      <td>1525</td>\n",
       "      <td>2</td>\n",
       "      <td>Labour</td>\n",
       "      <td>1063</td>\n",
       "    </tr>\n",
       "    <tr>\n",
       "      <th>gender</th>\n",
       "      <td>1525</td>\n",
       "      <td>2</td>\n",
       "      <td>female</td>\n",
       "      <td>812</td>\n",
       "    </tr>\n",
       "  </tbody>\n",
       "</table>\n",
       "</div>"
      ],
      "text/plain": [
       "       count unique     top  freq\n",
       "vote    1525      2  Labour  1063\n",
       "gender  1525      2  female   812"
      ]
     },
     "execution_count": 135,
     "metadata": {},
     "output_type": "execute_result"
    }
   ],
   "source": [
    "df.describe(include='object').transpose()"
   ]
  },
  {
   "cell_type": "code",
   "execution_count": 138,
   "metadata": {},
   "outputs": [
    {
     "data": {
      "image/png": "[encoded data removed]",
      "text/plain": [
       "<Figure size 504x360 with 1 Axes>"
      ]
     },
     "metadata": {
      "needs_background": "light"
     },
     "output_type": "display_data"
    },
    {
     "data": {
      "image/png": "[encoded data removed]",
      "text/plain": [
       "<Figure size 504x360 with 1 Axes>"
      ]
     },
     "metadata": {
      "needs_background": "light"
     },
     "output_type": "display_data"
    },
    {
     "data": {
      "image/png": "[encoded data removed]",
      "text/plain": [
       "<Figure size 504x360 with 1 Axes>"
      ]
     },
     "metadata": {
      "needs_background": "light"
     },
     "output_type": "display_data"
    },
    {
     "data": {
      "image/png": "[encoded data removed]",
      "text/plain": [
       "<Figure size 504x360 with 1 Axes>"
      ]
     },
     "metadata": {
      "needs_background": "light"
     },
     "output_type": "display_data"
    },
    {
     "data": {
      "image/png": "[encoded data removed]",
      "text/plain": [
       "<Figure size 504x360 with 1 Axes>"
      ]
     },
     "metadata": {
      "needs_background": "light"
     },
     "output_type": "display_data"
    },
    {
     "data": {
      "image/png": "[encoded data removed]",
      "text/plain": [
       "<Figure size 504x360 with 1 Axes>"
      ]
     },
     "metadata": {
      "needs_background": "light"
     },
     "output_type": "display_data"
    },
    {
     "data": {
      "image/png": "[encoded data removed]",
      "text/plain": [
       "<Figure size 504x360 with 1 Axes>"
      ]
     },
     "metadata": {
      "needs_background": "light"
     },
     "output_type": "display_data"
    },
    {
     "data": {
      "image/png": "[encoded data removed]",
      "text/plain": [
       "<Figure size 504x360 with 1 Axes>"
      ]
     },
     "metadata": {
      "needs_background": "light"
     },
     "output_type": "display_data"
    }
   ],
   "source": [
    "for i in df.columns: \n",
    "    if df[i].dtype == 'int64': \n",
    "        plt.rcParams['figure.figsize'] = 7,5\n",
    "        sns.boxplot(df[i],whis=1.5)\n",
    "        plt.grid()\n",
    "        plt.show();"
   ]
  },
  {
   "cell_type": "markdown",
   "metadata": {},
   "source": [
    "# Perform Univariate and Bivariate Analysis. Do exploratory data analysis. Check for Outliers. (7 Marks)"
   ]
  },
  {
   "cell_type": "code",
   "execution_count": 140,
   "metadata": {},
   "outputs": [],
   "source": [
    "df = df.drop('Unnamed: 0', axis=1) "
   ]
  },
  {
   "cell_type": "code",
   "execution_count": 141,
   "metadata": {},
   "outputs": [
    {
     "data": {
      "text/plain": [
       "Text(1.0, 1.0, 'Distplot all')"
      ]
     },
     "execution_count": 141,
     "metadata": {},
     "output_type": "execute_result"
    },
    {
     "data": {
      "image/png": "[encoded data removed]",
      "text/plain": [
       "<Figure size 504x360 with 9 Axes>"
      ]
     },
     "metadata": {
      "needs_background": "light"
     },
     "output_type": "display_data"
    }
   ],
   "source": [
    "# Univariate analysis\n",
    "\n",
    "histo1 = df.hist()\n",
    "plt.title(\"Distplot all\", fontsize='15', loc='right')"
   ]
  },
  {
   "cell_type": "code",
   "execution_count": 142,
   "metadata": {},
   "outputs": [
    {
     "data": {
      "text/plain": [
       "age                        0.144621\n",
       "economic.cond.national    -0.240453\n",
       "economic.cond.household   -0.149552\n",
       "Blair                     -0.535419\n",
       "Hague                      0.152100\n",
       "Europe                    -0.135947\n",
       "political.knowledge       -0.426838\n",
       "dtype: float64"
      ]
     },
     "execution_count": 142,
     "metadata": {},
     "output_type": "execute_result"
    }
   ],
   "source": [
    "df.skew()"
   ]
  },
  {
   "cell_type": "code",
   "execution_count": 143,
   "metadata": {},
   "outputs": [
    {
     "data": {
      "text/plain": [
       "Text(0.5, 1.0, 'Histogram Age')"
      ]
     },
     "execution_count": 143,
     "metadata": {},
     "output_type": "execute_result"
    },
    {
     "data": {
      "image/png": "[encoded data removed]",
      "text/plain": [
       "<Figure size 504x360 with 1 Axes>"
      ]
     },
     "metadata": {
      "needs_background": "light"
     },
     "output_type": "display_data"
    }
   ],
   "source": [
    "sns.distplot(df['age'])\n",
    "plt.title(\"Histogram Age\", fontsize='15')"
   ]
  },
  {
   "cell_type": "code",
   "execution_count": 144,
   "metadata": {
    "scrolled": false
   },
   "outputs": [
    {
     "data": {
      "text/plain": [
       "Text(0.5, 1.0, 'Boxplot All Variables')"
      ]
     },
     "execution_count": 144,
     "metadata": {},
     "output_type": "execute_result"
    },
    {
     "data": {
      "image/png": "[encoded data removed]",
      "text/plain": [
       "<Figure size 1080x432 with 1 Axes>"
      ]
     },
     "metadata": {
      "needs_background": "light"
     },
     "output_type": "display_data"
    }
   ],
   "source": [
    "# checking outliers\n",
    "\n",
    "plt.figure(figsize=(15,6))\n",
    "df.boxplot()\n",
    "plt.title(\"Boxplot All Variables\", fontsize='15')"
   ]
  },
  {
   "cell_type": "code",
   "execution_count": 145,
   "metadata": {},
   "outputs": [
    {
     "data": {
      "text/plain": [
       "3    0.424918\n",
       "4    0.288525\n",
       "2    0.183607\n",
       "5    0.060328\n",
       "1    0.042623\n",
       "Name: economic.cond.household, dtype: float64"
      ]
     },
     "execution_count": 145,
     "metadata": {},
     "output_type": "execute_result"
    }
   ],
   "source": [
    "df['economic.cond.household'].value_counts(normalize=True)"
   ]
  },
  {
   "cell_type": "code",
   "execution_count": 146,
   "metadata": {},
   "outputs": [
    {
     "data": {
      "text/plain": [
       "3    0.398033\n",
       "4    0.355410\n",
       "2    0.168525\n",
       "5    0.053770\n",
       "1    0.024262\n",
       "Name: economic.cond.national, dtype: float64"
      ]
     },
     "execution_count": 146,
     "metadata": {},
     "output_type": "execute_result"
    }
   ],
   "source": [
    "df['economic.cond.national'].value_counts(normalize=True)"
   ]
  },
  {
   "cell_type": "markdown",
   "metadata": {},
   "source": [
    "There are outliers in two columns economic cond national and household, but we would not treat/remove them as:\n",
    "\n",
    "\n",
    "    1.These are categorical variables by nature and in as a part of survey all categories are important.\n",
    "    2.There numbers is very small (2% to 4% of the data) so they might not affect the overall predictions\n",
    "    3.The techniques we will use for the predictions are robust to outliers."
   ]
  },
  {
   "cell_type": "code",
   "execution_count": 147,
   "metadata": {
    "scrolled": false
   },
   "outputs": [
    {
     "data": {
      "image/png": "[encoded data removed]",
      "text/plain": [
       "<Figure size 504x360 with 1 Axes>"
      ]
     },
     "metadata": {
      "needs_background": "light"
     },
     "output_type": "display_data"
    },
    {
     "data": {
      "image/png": "[encoded data removed]",
      "text/plain": [
       "<Figure size 504x360 with 1 Axes>"
      ]
     },
     "metadata": {
      "needs_background": "light"
     },
     "output_type": "display_data"
    },
    {
     "data": {
      "image/png": "[encoded data removed]",
      "text/plain": [
       "<Figure size 504x360 with 1 Axes>"
      ]
     },
     "metadata": {
      "needs_background": "light"
     },
     "output_type": "display_data"
    },
    {
     "data": {
      "image/png": "[encoded data removed]",
      "text/plain": [
       "<Figure size 504x360 with 1 Axes>"
      ]
     },
     "metadata": {
      "needs_background": "light"
     },
     "output_type": "display_data"
    },
    {
     "data": {
      "image/png": "[encoded data removed]",
      "text/plain": [
       "<Figure size 504x360 with 1 Axes>"
      ]
     },
     "metadata": {
      "needs_background": "light"
     },
     "output_type": "display_data"
    },
    {
     "data": {
      "image/png": "[encoded data removed]",
      "text/plain": [
       "<Figure size 504x360 with 1 Axes>"
      ]
     },
     "metadata": {
      "needs_background": "light"
     },
     "output_type": "display_data"
    },
    {
     "data": {
      "image/png": "[encoded data removed]",
      "text/plain": [
       "<Figure size 504x360 with 1 Axes>"
      ]
     },
     "metadata": {
      "needs_background": "light"
     },
     "output_type": "display_data"
    }
   ],
   "source": [
    "# bivariate analysis\n",
    "\n",
    "for i in df.drop(['age','vote'], axis=1).columns:\n",
    "    sns.countplot(x=df[i],hue=df['vote'])\n",
    "    plt.show()"
   ]
  },
  {
   "cell_type": "code",
   "execution_count": 148,
   "metadata": {
    "scrolled": false
   },
   "outputs": [
    {
     "data": {
      "text/plain": [
       "<matplotlib.axes._subplots.AxesSubplot at 0x248966e9d90>"
      ]
     },
     "execution_count": 148,
     "metadata": {},
     "output_type": "execute_result"
    },
    {
     "data": {
      "image/png": "[encoded data removed]",
      "text/plain": [
       "<Figure size 504x360 with 1 Axes>"
      ]
     },
     "metadata": {
      "needs_background": "light"
     },
     "output_type": "display_data"
    }
   ],
   "source": [
    "sns.countplot('Blair', data=df, hue='Hague')"
   ]
  },
  {
   "cell_type": "markdown",
   "metadata": {},
   "source": [
    "# Encode the data (having string values) for Modelling. Is Scaling necessary here or not? Data Split: Split the data into train and test (70:30). (5 Marks)"
   ]
  },
  {
   "cell_type": "code",
   "execution_count": 149,
   "metadata": {},
   "outputs": [
    {
     "data": {
      "text/plain": [
       "1    0.697049\n",
       "0    0.302951\n",
       "Name: vote, dtype: float64"
      ]
     },
     "execution_count": 149,
     "metadata": {},
     "output_type": "execute_result"
    }
   ],
   "source": [
    "# transform 'vote' variable to int type by label encoding\n",
    "\n",
    "from sklearn import preprocessing\n",
    "le = preprocessing.LabelEncoder()\n",
    "df['vote']= le.fit_transform(df['vote'])\n",
    "df.vote.value_counts(normalize=True)"
   ]
  },
  {
   "cell_type": "code",
   "execution_count": 150,
   "metadata": {},
   "outputs": [
    {
     "data": {
      "text/plain": [
       "0    812\n",
       "1    713\n",
       "Name: gender, dtype: int64"
      ]
     },
     "execution_count": 150,
     "metadata": {},
     "output_type": "execute_result"
    }
   ],
   "source": [
    "# transform 'gender' variable to int type by label encoding\n",
    "\n",
    "from sklearn import preprocessing\n",
    "le = preprocessing.LabelEncoder()\n",
    "df['gender']= le.fit_transform(df['gender'])\n",
    "df.gender.value_counts()"
   ]
  },
  {
   "cell_type": "code",
   "execution_count": 151,
   "metadata": {},
   "outputs": [],
   "source": [
    "df2 = df.rename(columns = {'economic.cond.national': 'economic_cond_national', 'economic.cond.household': 'economic_cond_household','political.knowledge': 'political_knowledge'}, inplace = False)"
   ]
  },
  {
   "cell_type": "markdown",
   "metadata": {},
   "source": [
    "Although all columns are single digit except Age and Europe which are also only in double digits, we may use the data without scaling. However, for our safety we wil scale the data before using it."
   ]
  },
  {
   "cell_type": "code",
   "execution_count": 305,
   "metadata": {},
   "outputs": [],
   "source": [
    "\n",
    "# split data into test train in 70:30\n",
    "\n",
    "from sklearn.model_selection import train_test_split\n",
    "Train,Test = train_test_split(df2,test_size=0.3,random_state=1,stratify=df2['vote'])\n",
    "\n",
    "X_train= Train.drop('vote',axis=1)\n",
    "X_test= Test.drop('vote',axis=1)\n",
    "y_train = Train['vote']\n",
    "y_test= Test['vote']\n",
    "# scaling train and test\n",
    "\n",
    "from sklearn.preprocessing import StandardScaler\n",
    "features_train=X_train\n",
    "features_test=X_test\n",
    "scale = StandardScaler()\n",
    "#X_train = scale.fit_transform(X_train)       # scaling original train data\n",
    "#X_test = scale.transform(X_test)             # scale original test data\n",
    "features_train[ : ]= scale.fit_transform(features_train.values)\n",
    "features_test[ : ]= scale.fit_transform(features_test.values)"
   ]
  },
  {
   "cell_type": "code",
   "execution_count": 306,
   "metadata": {},
   "outputs": [
    {
     "data": {
      "text/plain": [
       "(1067, 9)"
      ]
     },
     "execution_count": 306,
     "metadata": {},
     "output_type": "execute_result"
    }
   ],
   "source": [
    "Train.shape"
   ]
  },
  {
   "cell_type": "code",
   "execution_count": 307,
   "metadata": {},
   "outputs": [
    {
     "data": {
      "text/plain": [
       "(458, 9)"
      ]
     },
     "execution_count": 307,
     "metadata": {},
     "output_type": "execute_result"
    }
   ],
   "source": [
    "Test.shape"
   ]
  },
  {
   "cell_type": "markdown",
   "metadata": {},
   "source": [
    "# Apply Logistic Regression \n",
    "# Logistic Regression "
   ]
  },
  {
   "cell_type": "code",
   "execution_count": 308,
   "metadata": {},
   "outputs": [],
   "source": [
    "import statsmodels.api as sm"
   ]
  },
  {
   "cell_type": "code",
   "execution_count": 309,
   "metadata": {},
   "outputs": [],
   "source": [
    "formula_1='vote~age+economic_cond_national+economic_cond_household+Blair+Hague+Europe+political_knowledge+gender'"
   ]
  },
  {
   "cell_type": "code",
   "execution_count": 310,
   "metadata": {},
   "outputs": [
    {
     "name": "stdout",
     "output_type": "stream",
     "text": [
      "Optimization terminated successfully.\n",
      "         Current function value: 0.508113\n",
      "         Iterations 6\n"
     ]
    }
   ],
   "source": [
    "Logistic_1 = sm.Logit(y_train,features_train).fit()"
   ]
  },
  {
   "cell_type": "code",
   "execution_count": 311,
   "metadata": {},
   "outputs": [
    {
     "data": {
      "text/html": [
       "<table class=\"simpletable\">\n",
       "<caption>Logit Regression Results</caption>\n",
       "<tr>\n",
       "  <th>Dep. Variable:</th>         <td>vote</td>       <th>  No. Observations:  </th>  <td>  1067</td>  \n",
       "</tr>\n",
       "<tr>\n",
       "  <th>Model:</th>                 <td>Logit</td>      <th>  Df Residuals:      </th>  <td>  1059</td>  \n",
       "</tr>\n",
       "<tr>\n",
       "  <th>Method:</th>                 <td>MLE</td>       <th>  Df Model:          </th>  <td>     7</td>  \n",
       "</tr>\n",
       "<tr>\n",
       "  <th>Date:</th>            <td>Sun, 11 Apr 2021</td> <th>  Pseudo R-squ.:     </th>  <td>0.1713</td>  \n",
       "</tr>\n",
       "<tr>\n",
       "  <th>Time:</th>                <td>16:05:43</td>     <th>  Log-Likelihood:    </th> <td> -542.16</td> \n",
       "</tr>\n",
       "<tr>\n",
       "  <th>converged:</th>             <td>True</td>       <th>  LL-Null:           </th> <td> -654.23</td> \n",
       "</tr>\n",
       "<tr>\n",
       "  <th>Covariance Type:</th>     <td>nonrobust</td>    <th>  LLR p-value:       </th> <td>8.681e-45</td>\n",
       "</tr>\n",
       "</table>\n",
       "<table class=\"simpletable\">\n",
       "<tr>\n",
       "             <td></td>                <th>coef</th>     <th>std err</th>      <th>z</th>      <th>P>|z|</th>  <th>[0.025</th>    <th>0.975]</th>  \n",
       "</tr>\n",
       "<tr>\n",
       "  <th>age</th>                     <td>   -0.2808</td> <td>    0.077</td> <td>   -3.651</td> <td> 0.000</td> <td>   -0.432</td> <td>   -0.130</td>\n",
       "</tr>\n",
       "<tr>\n",
       "  <th>economic_cond_national</th>  <td>    0.2271</td> <td>    0.085</td> <td>    2.667</td> <td> 0.008</td> <td>    0.060</td> <td>    0.394</td>\n",
       "</tr>\n",
       "<tr>\n",
       "  <th>economic_cond_household</th> <td>    0.0683</td> <td>    0.081</td> <td>    0.841</td> <td> 0.400</td> <td>   -0.091</td> <td>    0.228</td>\n",
       "</tr>\n",
       "<tr>\n",
       "  <th>Blair</th>                   <td>    0.5717</td> <td>    0.083</td> <td>    6.918</td> <td> 0.000</td> <td>    0.410</td> <td>    0.734</td>\n",
       "</tr>\n",
       "<tr>\n",
       "  <th>Hague</th>                   <td>   -0.8238</td> <td>    0.079</td> <td>  -10.362</td> <td> 0.000</td> <td>   -0.980</td> <td>   -0.668</td>\n",
       "</tr>\n",
       "<tr>\n",
       "  <th>Europe</th>                  <td>   -0.5505</td> <td>    0.080</td> <td>   -6.883</td> <td> 0.000</td> <td>   -0.707</td> <td>   -0.394</td>\n",
       "</tr>\n",
       "<tr>\n",
       "  <th>political_knowledge</th>     <td>   -0.3675</td> <td>    0.077</td> <td>   -4.745</td> <td> 0.000</td> <td>   -0.519</td> <td>   -0.216</td>\n",
       "</tr>\n",
       "<tr>\n",
       "  <th>gender</th>                  <td>    0.0497</td> <td>    0.077</td> <td>    0.647</td> <td> 0.518</td> <td>   -0.101</td> <td>    0.200</td>\n",
       "</tr>\n",
       "</table>"
      ],
      "text/plain": [
       "<class 'statsmodels.iolib.summary.Summary'>\n",
       "\"\"\"\n",
       "                           Logit Regression Results                           \n",
       "==============================================================================\n",
       "Dep. Variable:                   vote   No. Observations:                 1067\n",
       "Model:                          Logit   Df Residuals:                     1059\n",
       "Method:                           MLE   Df Model:                            7\n",
       "Date:                Sun, 11 Apr 2021   Pseudo R-squ.:                  0.1713\n",
       "Time:                        16:05:43   Log-Likelihood:                -542.16\n",
       "converged:                       True   LL-Null:                       -654.23\n",
       "Covariance Type:            nonrobust   LLR p-value:                 8.681e-45\n",
       "===========================================================================================\n",
       "                              coef    std err          z      P>|z|      [0.025      0.975]\n",
       "-------------------------------------------------------------------------------------------\n",
       "age                        -0.2808      0.077     -3.651      0.000      -0.432      -0.130\n",
       "economic_cond_national      0.2271      0.085      2.667      0.008       0.060       0.394\n",
       "economic_cond_household     0.0683      0.081      0.841      0.400      -0.091       0.228\n",
       "Blair                       0.5717      0.083      6.918      0.000       0.410       0.734\n",
       "Hague                      -0.8238      0.079    -10.362      0.000      -0.980      -0.668\n",
       "Europe                     -0.5505      0.080     -6.883      0.000      -0.707      -0.394\n",
       "political_knowledge        -0.3675      0.077     -4.745      0.000      -0.519      -0.216\n",
       "gender                      0.0497      0.077      0.647      0.518      -0.101       0.200\n",
       "===========================================================================================\n",
       "\"\"\""
      ]
     },
     "execution_count": 311,
     "metadata": {},
     "output_type": "execute_result"
    }
   ],
   "source": [
    "Logistic_1.summary()"
   ]
  },
  {
   "cell_type": "code",
   "execution_count": 312,
   "metadata": {},
   "outputs": [
    {
     "data": {
      "text/plain": [
       "age                        2.609021e-04\n",
       "economic_cond_national     7.654228e-03\n",
       "economic_cond_household    4.004806e-01\n",
       "Blair                      4.570417e-12\n",
       "Hague                      3.674663e-25\n",
       "Europe                     5.851016e-12\n",
       "political_knowledge        2.082527e-06\n",
       "gender                     5.175689e-01\n",
       "dtype: float64"
      ]
     },
     "execution_count": 312,
     "metadata": {},
     "output_type": "execute_result"
    }
   ],
   "source": [
    "Logistic_1.pvalues"
   ]
  },
  {
   "cell_type": "code",
   "execution_count": 313,
   "metadata": {},
   "outputs": [],
   "source": [
    "from sklearn import metrics"
   ]
  },
  {
   "cell_type": "code",
   "execution_count": 314,
   "metadata": {},
   "outputs": [],
   "source": [
    "model_1_train_class = Logistic_1.predict(features_train[['age','economic_cond_national','economic_cond_household','Blair','Hague','Europe','political_knowledge','gender']])\n",
    "model_1_test_class = Logistic_1.predict(features_test[['age','economic_cond_national','economic_cond_household','Blair','Hague','Europe','political_knowledge','gender']])"
   ]
  },
  {
   "cell_type": "code",
   "execution_count": 315,
   "metadata": {},
   "outputs": [],
   "source": [
    "model_1_train_class = Logistic_1.predict(features_train)\n",
    "model_1_test_class = Logistic_1.predict(features_test)"
   ]
  },
  {
   "cell_type": "code",
   "execution_count": 316,
   "metadata": {},
   "outputs": [
    {
     "data": {
      "text/plain": [
       "1493    1\n",
       "1431    1\n",
       "235     1\n",
       "1078    1\n",
       "735     1\n",
       "       ..\n",
       "531     0\n",
       "624     0\n",
       "515     1\n",
       "545     0\n",
       "406     0\n",
       "Length: 1067, dtype: int32"
      ]
     },
     "execution_count": 316,
     "metadata": {},
     "output_type": "execute_result"
    }
   ],
   "source": [
    "model_1_train_class=(model_1_train_class>=0.5).astype(np.int)\n",
    "model_1_train_class"
   ]
  },
  {
   "cell_type": "code",
   "execution_count": 317,
   "metadata": {},
   "outputs": [
    {
     "data": {
      "text/plain": [
       "1317    1\n",
       "229     1\n",
       "609     1\n",
       "24      0\n",
       "1479    1\n",
       "       ..\n",
       "1287    0\n",
       "780     1\n",
       "636     1\n",
       "664     0\n",
       "265     1\n",
       "Length: 458, dtype: int32"
      ]
     },
     "execution_count": 317,
     "metadata": {},
     "output_type": "execute_result"
    }
   ],
   "source": [
    "model_1_test_class=(model_1_test_class>=0.5).astype(np.int)\n",
    "model_1_test_class"
   ]
  },
  {
   "cell_type": "code",
   "execution_count": 318,
   "metadata": {},
   "outputs": [],
   "source": [
    "from pylab import rcParams\n",
    "rcParams['figure.figsize'] = 15,4"
   ]
  },
  {
   "cell_type": "code",
   "execution_count": 319,
   "metadata": {},
   "outputs": [
    {
     "data": {
      "image/png": "[encoded data removed]",
      "text/plain": [
       "<Figure size 1080x288 with 4 Axes>"
      ]
     },
     "metadata": {
      "needs_background": "light"
     },
     "output_type": "display_data"
    }
   ],
   "source": [
    "f,a =  plt.subplots(1,2,sharex=True,sharey=True,squeeze=False)\n",
    "\n",
    "#Plotting confusion matrix for the models for the Training and Testing Data\n",
    "\n",
    "plot_0 = sns.heatmap((metrics.confusion_matrix(y_train,model_1_train_class)),annot=True,fmt='.5g',cmap='Greys',ax=a[0][0]);\n",
    "a[0][0].set_title('Logistic_1-Train')\n",
    "\n",
    "plot_1 = sns.heatmap((metrics.confusion_matrix(y_test,model_1_test_class)),annot=True,fmt='.5g',cmap='Greys',ax=a[0][1]);\n",
    "a[0][1].set_title('Logistic_1-Test');\n",
    "\n"
   ]
  },
  {
   "cell_type": "code",
   "execution_count": 320,
   "metadata": {},
   "outputs": [
    {
     "name": "stdout",
     "output_type": "stream",
     "text": [
      "Logistic_1-Train\n",
      "True Negative: 278 \n",
      "False Positives: 45 \n",
      "False Negatives: 212 \n",
      "True Positives: 532 \n",
      "\n",
      "\n",
      "Logistic_1-Test\n",
      "True Negative: 131 \n",
      "False Positives: 8 \n",
      "False Negatives: 77 \n",
      "True Positives: 242 \n",
      "\n",
      "\n"
     ]
    }
   ],
   "source": [
    "print('Logistic_1-Train')\n",
    "tn, fp, fn, tp = metrics.confusion_matrix(y_train,model_1_train_class).ravel()\n",
    "print('True Negative:',tn,'\\n''False Positives:' ,fp,'\\n''False Negatives:', fn,'\\n''True Positives:', tp,'\\n\\n')\n",
    "\n",
    "print('Logistic_1-Test')\n",
    "tn, fp, fn, tp = metrics.confusion_matrix(y_test,model_1_test_class).ravel()\n",
    "print('True Negative:',tn,'\\n''False Positives:' ,fp,'\\n''False Negatives:', fn,'\\n''True Positives:', tp,'\\n\\n')"
   ]
  },
  {
   "cell_type": "code",
   "execution_count": 321,
   "metadata": {},
   "outputs": [
    {
     "name": "stdout",
     "output_type": "stream",
     "text": [
      "Logistic_1-Train\n",
      "              precision    recall  f1-score   support\n",
      "\n",
      "           0       0.57      0.86      0.68       323\n",
      "           1       0.92      0.72      0.81       744\n",
      "\n",
      "    accuracy                           0.76      1067\n",
      "   macro avg       0.74      0.79      0.74      1067\n",
      "weighted avg       0.81      0.76      0.77      1067\n",
      " \n",
      "\n",
      "Logistic_1-Test\n",
      "              precision    recall  f1-score   support\n",
      "\n",
      "           0       0.63      0.94      0.76       139\n",
      "           1       0.97      0.76      0.85       319\n",
      "\n",
      "    accuracy                           0.81       458\n",
      "   macro avg       0.80      0.85      0.80       458\n",
      "weighted avg       0.87      0.81      0.82       458\n",
      " \n",
      "\n"
     ]
    }
   ],
   "source": [
    "print('Logistic_1-Train')\n",
    "print(metrics.classification_report(y_train,model_1_train_class),'\\n')\n",
    "\n",
    "print('Logistic_1-Test')\n",
    "print(metrics.classification_report(y_test,model_1_test_class),'\\n')"
   ]
  },
  {
   "cell_type": "code",
   "execution_count": 322,
   "metadata": {},
   "outputs": [],
   "source": [
    "from pylab import rcParams\n",
    "rcParams['figure.figsize'] = 7,4"
   ]
  },
  {
   "cell_type": "code",
   "execution_count": 323,
   "metadata": {},
   "outputs": [
    {
     "name": "stdout",
     "output_type": "stream",
     "text": [
      "Logistic_1-Train AUC: 0.87602\n"
     ]
    },
    {
     "data": {
      "image/png": "[encoded data removed]",
      "text/plain": [
       "<Figure size 504x288 with 1 Axes>"
      ]
     },
     "metadata": {
      "needs_background": "light"
     },
     "output_type": "display_data"
    },
    {
     "name": "stdout",
     "output_type": "stream",
     "text": [
      "Logistic_1-Test AUC: 0.91669\n"
     ]
    },
    {
     "data": {
      "image/png": "[encoded data removed]",
      "text/plain": [
       "<Figure size 504x288 with 1 Axes>"
      ]
     },
     "metadata": {
      "needs_background": "light"
     },
     "output_type": "display_data"
    }
   ],
   "source": [
    "# AUC and ROC for the model 1\n",
    "\n",
    "# calculate AUC\n",
    "auc = metrics.roc_auc_score(y_train,Logistic_1.predict(features_train))#keeping only the probabilities for the desired class outcome\n",
    "print('Logistic_1-Train AUC: %.5f' % auc)\n",
    "# # calculate roc curve\n",
    "# from sklearn.metrics import roc_curve\n",
    "fpr, tpr, thresholds = metrics.roc_curve(y_train,Logistic_1.predict(features_train))#keeping only the probabilities for the desired \n",
    "#class outcome\n",
    "plt.plot([0, 1], [0, 1], linestyle='--')\n",
    "# plot the roc curve for the model\n",
    "plt.plot(fpr, tpr, marker='.')\n",
    "# show the plot\n",
    "plt.show()\n",
    "\n",
    "\n",
    "# calculate AUC\n",
    "auc = metrics.roc_auc_score(y_test,Logistic_1.predict(features_test))#keeping only the probabilities for the desired class outcome\n",
    "print('Logistic_1-Test AUC: %.5f' % auc)\n",
    "# # calculate roc curve\n",
    "# from sklearn.metrics import roc_curve\n",
    "fpr, tpr, thresholds = metrics.roc_curve(y_test,Logistic_1.predict(features_test))#keeping only the probabilities for the desired \n",
    "#class outcome\n",
    "plt.plot([0, 1], [0, 1], linestyle='--')\n",
    "# plot the roc curve for the model\n",
    "plt.plot(fpr, tpr, marker='.')\n",
    "# show the plot\n",
    "plt.show()"
   ]
  },
  {
   "cell_type": "code",
   "execution_count": null,
   "metadata": {},
   "outputs": [],
   "source": []
  },
  {
   "cell_type": "markdown",
   "metadata": {},
   "source": [
    "# Iteration 2 - dropping 'gender'"
   ]
  },
  {
   "cell_type": "code",
   "execution_count": 324,
   "metadata": {},
   "outputs": [],
   "source": [
    "formula_2='vote~age+economic_cond_national+Blair+Hague+Europe+political_knowledge+economic_cond_household'"
   ]
  },
  {
   "cell_type": "code",
   "execution_count": 325,
   "metadata": {},
   "outputs": [],
   "source": [
    "features_train=features_train.drop('gender',axis=1)\n",
    "features_test=features_test.drop('gender',axis=1)"
   ]
  },
  {
   "cell_type": "code",
   "execution_count": 326,
   "metadata": {},
   "outputs": [
    {
     "data": {
      "text/html": [
       "<div>\n",
       "<style scoped>\n",
       "    .dataframe tbody tr th:only-of-type {\n",
       "        vertical-align: middle;\n",
       "    }\n",
       "\n",
       "    .dataframe tbody tr th {\n",
       "        vertical-align: top;\n",
       "    }\n",
       "\n",
       "    .dataframe thead th {\n",
       "        text-align: right;\n",
       "    }\n",
       "</style>\n",
       "<table border=\"1\" class=\"dataframe\">\n",
       "  <thead>\n",
       "    <tr style=\"text-align: right;\">\n",
       "      <th></th>\n",
       "      <th>age</th>\n",
       "      <th>economic_cond_national</th>\n",
       "      <th>economic_cond_household</th>\n",
       "      <th>Blair</th>\n",
       "      <th>Hague</th>\n",
       "      <th>Europe</th>\n",
       "      <th>political_knowledge</th>\n",
       "    </tr>\n",
       "  </thead>\n",
       "  <tbody>\n",
       "    <tr>\n",
       "      <th>1317</th>\n",
       "      <td>-1.458270</td>\n",
       "      <td>-0.28905</td>\n",
       "      <td>0.915288</td>\n",
       "      <td>0.585700</td>\n",
       "      <td>1.085189</td>\n",
       "      <td>0.631103</td>\n",
       "      <td>-1.431395</td>\n",
       "    </tr>\n",
       "    <tr>\n",
       "      <th>229</th>\n",
       "      <td>0.841487</td>\n",
       "      <td>-1.45032</td>\n",
       "      <td>-0.154105</td>\n",
       "      <td>1.431916</td>\n",
       "      <td>-0.520680</td>\n",
       "      <td>0.334037</td>\n",
       "      <td>-1.431395</td>\n",
       "    </tr>\n",
       "    <tr>\n",
       "      <th>609</th>\n",
       "      <td>1.863601</td>\n",
       "      <td>0.87222</td>\n",
       "      <td>-1.223498</td>\n",
       "      <td>0.585700</td>\n",
       "      <td>-1.323615</td>\n",
       "      <td>-0.854227</td>\n",
       "      <td>1.319286</td>\n",
       "    </tr>\n",
       "    <tr>\n",
       "      <th>24</th>\n",
       "      <td>0.330430</td>\n",
       "      <td>-0.28905</td>\n",
       "      <td>-1.223498</td>\n",
       "      <td>0.585700</td>\n",
       "      <td>1.085189</td>\n",
       "      <td>-1.448359</td>\n",
       "      <td>0.402392</td>\n",
       "    </tr>\n",
       "    <tr>\n",
       "      <th>1479</th>\n",
       "      <td>1.544190</td>\n",
       "      <td>0.87222</td>\n",
       "      <td>0.915288</td>\n",
       "      <td>1.431916</td>\n",
       "      <td>-1.323615</td>\n",
       "      <td>-1.151293</td>\n",
       "      <td>1.319286</td>\n",
       "    </tr>\n",
       "  </tbody>\n",
       "</table>\n",
       "</div>"
      ],
      "text/plain": [
       "           age  economic_cond_national  economic_cond_household     Blair  \\\n",
       "1317 -1.458270                -0.28905                 0.915288  0.585700   \n",
       "229   0.841487                -1.45032                -0.154105  1.431916   \n",
       "609   1.863601                 0.87222                -1.223498  0.585700   \n",
       "24    0.330430                -0.28905                -1.223498  0.585700   \n",
       "1479  1.544190                 0.87222                 0.915288  1.431916   \n",
       "\n",
       "         Hague    Europe  political_knowledge  \n",
       "1317  1.085189  0.631103            -1.431395  \n",
       "229  -0.520680  0.334037            -1.431395  \n",
       "609  -1.323615 -0.854227             1.319286  \n",
       "24    1.085189 -1.448359             0.402392  \n",
       "1479 -1.323615 -1.151293             1.319286  "
      ]
     },
     "execution_count": 326,
     "metadata": {},
     "output_type": "execute_result"
    }
   ],
   "source": [
    "features_test.head()"
   ]
  },
  {
   "cell_type": "code",
   "execution_count": 327,
   "metadata": {},
   "outputs": [
    {
     "name": "stdout",
     "output_type": "stream",
     "text": [
      "Optimization terminated successfully.\n",
      "         Current function value: 0.508309\n",
      "         Iterations 6\n"
     ]
    }
   ],
   "source": [
    "Logistic_2 = sm.Logit(y_train,features_train).fit()"
   ]
  },
  {
   "cell_type": "code",
   "execution_count": 329,
   "metadata": {},
   "outputs": [
    {
     "data": {
      "text/html": [
       "<table class=\"simpletable\">\n",
       "<caption>Logit Regression Results</caption>\n",
       "<tr>\n",
       "  <th>Dep. Variable:</th>         <td>vote</td>       <th>  No. Observations:  </th>  <td>  1067</td>  \n",
       "</tr>\n",
       "<tr>\n",
       "  <th>Model:</th>                 <td>Logit</td>      <th>  Df Residuals:      </th>  <td>  1060</td>  \n",
       "</tr>\n",
       "<tr>\n",
       "  <th>Method:</th>                 <td>MLE</td>       <th>  Df Model:          </th>  <td>     6</td>  \n",
       "</tr>\n",
       "<tr>\n",
       "  <th>Date:</th>            <td>Sun, 11 Apr 2021</td> <th>  Pseudo R-squ.:     </th>  <td>0.1710</td>  \n",
       "</tr>\n",
       "<tr>\n",
       "  <th>Time:</th>                <td>16:06:39</td>     <th>  Log-Likelihood:    </th> <td> -542.37</td> \n",
       "</tr>\n",
       "<tr>\n",
       "  <th>converged:</th>             <td>True</td>       <th>  LL-Null:           </th> <td> -654.23</td> \n",
       "</tr>\n",
       "<tr>\n",
       "  <th>Covariance Type:</th>     <td>nonrobust</td>    <th>  LLR p-value:       </th> <td>1.666e-45</td>\n",
       "</tr>\n",
       "</table>\n",
       "<table class=\"simpletable\">\n",
       "<tr>\n",
       "             <td></td>                <th>coef</th>     <th>std err</th>      <th>z</th>      <th>P>|z|</th>  <th>[0.025</th>    <th>0.975]</th>  \n",
       "</tr>\n",
       "<tr>\n",
       "  <th>age</th>                     <td>   -0.2805</td> <td>    0.077</td> <td>   -3.650</td> <td> 0.000</td> <td>   -0.431</td> <td>   -0.130</td>\n",
       "</tr>\n",
       "<tr>\n",
       "  <th>economic_cond_national</th>  <td>    0.2292</td> <td>    0.085</td> <td>    2.694</td> <td> 0.007</td> <td>    0.062</td> <td>    0.396</td>\n",
       "</tr>\n",
       "<tr>\n",
       "  <th>economic_cond_household</th> <td>    0.0690</td> <td>    0.081</td> <td>    0.849</td> <td> 0.396</td> <td>   -0.090</td> <td>    0.228</td>\n",
       "</tr>\n",
       "<tr>\n",
       "  <th>Blair</th>                   <td>    0.5760</td> <td>    0.082</td> <td>    6.990</td> <td> 0.000</td> <td>    0.414</td> <td>    0.737</td>\n",
       "</tr>\n",
       "<tr>\n",
       "  <th>Hague</th>                   <td>   -0.8242</td> <td>    0.080</td> <td>  -10.366</td> <td> 0.000</td> <td>   -0.980</td> <td>   -0.668</td>\n",
       "</tr>\n",
       "<tr>\n",
       "  <th>Europe</th>                  <td>   -0.5522</td> <td>    0.080</td> <td>   -6.906</td> <td> 0.000</td> <td>   -0.709</td> <td>   -0.395</td>\n",
       "</tr>\n",
       "<tr>\n",
       "  <th>political_knowledge</th>     <td>   -0.3580</td> <td>    0.076</td> <td>   -4.710</td> <td> 0.000</td> <td>   -0.507</td> <td>   -0.209</td>\n",
       "</tr>\n",
       "</table>"
      ],
      "text/plain": [
       "<class 'statsmodels.iolib.summary.Summary'>\n",
       "\"\"\"\n",
       "                           Logit Regression Results                           \n",
       "==============================================================================\n",
       "Dep. Variable:                   vote   No. Observations:                 1067\n",
       "Model:                          Logit   Df Residuals:                     1060\n",
       "Method:                           MLE   Df Model:                            6\n",
       "Date:                Sun, 11 Apr 2021   Pseudo R-squ.:                  0.1710\n",
       "Time:                        16:06:39   Log-Likelihood:                -542.37\n",
       "converged:                       True   LL-Null:                       -654.23\n",
       "Covariance Type:            nonrobust   LLR p-value:                 1.666e-45\n",
       "===========================================================================================\n",
       "                              coef    std err          z      P>|z|      [0.025      0.975]\n",
       "-------------------------------------------------------------------------------------------\n",
       "age                        -0.2805      0.077     -3.650      0.000      -0.431      -0.130\n",
       "economic_cond_national      0.2292      0.085      2.694      0.007       0.062       0.396\n",
       "economic_cond_household     0.0690      0.081      0.849      0.396      -0.090       0.228\n",
       "Blair                       0.5760      0.082      6.990      0.000       0.414       0.737\n",
       "Hague                      -0.8242      0.080    -10.366      0.000      -0.980      -0.668\n",
       "Europe                     -0.5522      0.080     -6.906      0.000      -0.709      -0.395\n",
       "political_knowledge        -0.3580      0.076     -4.710      0.000      -0.507      -0.209\n",
       "===========================================================================================\n",
       "\"\"\""
      ]
     },
     "execution_count": 329,
     "metadata": {},
     "output_type": "execute_result"
    }
   ],
   "source": [
    "Logistic_2.summary()"
   ]
  },
  {
   "cell_type": "code",
   "execution_count": 332,
   "metadata": {},
   "outputs": [],
   "source": [
    "model_2_train_class = Logistic_2.predict(features_train[['age','economic_cond_national','Blair','Hague','Europe','political_knowledge','economic_cond_household']])\n",
    "model_2_train_class = Logistic_2.predict(features_test[['age','economic_cond_national','Blair','Hague','Europe','political_knowledge','economic_cond_household']])"
   ]
  },
  {
   "cell_type": "code",
   "execution_count": 333,
   "metadata": {},
   "outputs": [],
   "source": [
    "model_2_train_class = Logistic_2.predict(features_train)\n",
    "model_2_test_class = Logistic_2.predict(features_test)"
   ]
  },
  {
   "cell_type": "code",
   "execution_count": 334,
   "metadata": {},
   "outputs": [
    {
     "data": {
      "text/plain": [
       "1493    1\n",
       "1431    1\n",
       "235     1\n",
       "1078    1\n",
       "735     1\n",
       "       ..\n",
       "531     0\n",
       "624     0\n",
       "515     1\n",
       "545     0\n",
       "406     0\n",
       "Length: 1067, dtype: int32"
      ]
     },
     "execution_count": 334,
     "metadata": {},
     "output_type": "execute_result"
    }
   ],
   "source": [
    "model_2_train_class=(model_2_train_class>=0.5).astype(np.int)\n",
    "model_2_train_class"
   ]
  },
  {
   "cell_type": "code",
   "execution_count": 335,
   "metadata": {},
   "outputs": [
    {
     "data": {
      "text/plain": [
       "1317    1\n",
       "229     1\n",
       "609     1\n",
       "24      0\n",
       "1479    1\n",
       "       ..\n",
       "1287    0\n",
       "780     1\n",
       "636     1\n",
       "664     0\n",
       "265     0\n",
       "Length: 458, dtype: int32"
      ]
     },
     "execution_count": 335,
     "metadata": {},
     "output_type": "execute_result"
    }
   ],
   "source": [
    "model_2_test_class=(model_2_test_class>=0.5).astype(np.int)\n",
    "model_2_test_class"
   ]
  },
  {
   "cell_type": "code",
   "execution_count": 336,
   "metadata": {},
   "outputs": [],
   "source": [
    "from pylab import rcParams\n",
    "rcParams['figure.figsize'] = 15,4"
   ]
  },
  {
   "cell_type": "code",
   "execution_count": 337,
   "metadata": {},
   "outputs": [
    {
     "data": {
      "image/png": "[encoded data removed]",
      "text/plain": [
       "<Figure size 1080x288 with 4 Axes>"
      ]
     },
     "metadata": {
      "needs_background": "light"
     },
     "output_type": "display_data"
    }
   ],
   "source": [
    "f,a =  plt.subplots(1,2,sharex=True,sharey=True,squeeze=False)\n",
    "\n",
    "#Plotting confusion matrix for the models for the Training and Testing Data\n",
    "\n",
    "plot_0 = sns.heatmap((metrics.confusion_matrix(y_train,model_2_train_class)),annot=True,fmt='.5g',cmap='Greys',ax=a[0][0]);\n",
    "a[0][0].set_title('Logistic_2-Train')\n",
    "\n",
    "plot_1 = sns.heatmap((metrics.confusion_matrix(y_test,model_2_test_class)),annot=True,fmt='.5g',cmap='Greys',ax=a[0][1]);\n",
    "a[0][1].set_title('Logistic_2-Test');\n",
    "\n"
   ]
  },
  {
   "cell_type": "code",
   "execution_count": 338,
   "metadata": {},
   "outputs": [
    {
     "name": "stdout",
     "output_type": "stream",
     "text": [
      "Logistic_2-Train\n",
      "True Negative: 278 \n",
      "False Positives: 45 \n",
      "False Negatives: 215 \n",
      "True Positives: 529 \n",
      "\n",
      "\n",
      "Logistic_2-Test\n",
      "True Negative: 130 \n",
      "False Positives: 9 \n",
      "False Negatives: 79 \n",
      "True Positives: 240 \n",
      "\n",
      "\n"
     ]
    }
   ],
   "source": [
    "print('Logistic_2-Train')\n",
    "tn, fp, fn, tp = metrics.confusion_matrix(y_train,model_2_train_class).ravel()\n",
    "print('True Negative:',tn,'\\n''False Positives:' ,fp,'\\n''False Negatives:', fn,'\\n''True Positives:', tp,'\\n\\n')\n",
    "\n",
    "print('Logistic_2-Test')\n",
    "tn, fp, fn, tp = metrics.confusion_matrix(y_test,model_2_test_class).ravel()\n",
    "print('True Negative:',tn,'\\n''False Positives:' ,fp,'\\n''False Negatives:', fn,'\\n''True Positives:', tp,'\\n\\n')"
   ]
  },
  {
   "cell_type": "code",
   "execution_count": 339,
   "metadata": {},
   "outputs": [
    {
     "name": "stdout",
     "output_type": "stream",
     "text": [
      "Logistic_2-Train\n",
      "              precision    recall  f1-score   support\n",
      "\n",
      "           0       0.56      0.86      0.68       323\n",
      "           1       0.92      0.71      0.80       744\n",
      "\n",
      "    accuracy                           0.76      1067\n",
      "   macro avg       0.74      0.79      0.74      1067\n",
      "weighted avg       0.81      0.76      0.77      1067\n",
      " \n",
      "\n",
      "Logistic_2-Test\n",
      "              precision    recall  f1-score   support\n",
      "\n",
      "           0       0.62      0.94      0.75       139\n",
      "           1       0.96      0.75      0.85       319\n",
      "\n",
      "    accuracy                           0.81       458\n",
      "   macro avg       0.79      0.84      0.80       458\n",
      "weighted avg       0.86      0.81      0.82       458\n",
      " \n",
      "\n"
     ]
    }
   ],
   "source": [
    "print('Logistic_2-Train')\n",
    "print(metrics.classification_report(y_train,model_2_train_class),'\\n')\n",
    "\n",
    "print('Logistic_2-Test')\n",
    "print(metrics.classification_report(y_test,model_2_test_class),'\\n')"
   ]
  },
  {
   "cell_type": "code",
   "execution_count": 208,
   "metadata": {},
   "outputs": [],
   "source": [
    "from pylab import rcParams\n",
    "rcParams['figure.figsize'] = 7,4"
   ]
  },
  {
   "cell_type": "code",
   "execution_count": 340,
   "metadata": {},
   "outputs": [
    {
     "name": "stdout",
     "output_type": "stream",
     "text": [
      "Logistic_2-Train AUC: 0.87604\n"
     ]
    },
    {
     "data": {
      "image/png": "[encoded data removed]",
      "text/plain": [
       "<Figure size 1080x288 with 1 Axes>"
      ]
     },
     "metadata": {
      "needs_background": "light"
     },
     "output_type": "display_data"
    },
    {
     "name": "stdout",
     "output_type": "stream",
     "text": [
      "Logistic_2-Test AUC: 0.91764\n"
     ]
    },
    {
     "data": {
      "image/png": "[encoded data removed]",
      "text/plain": [
       "<Figure size 1080x288 with 1 Axes>"
      ]
     },
     "metadata": {
      "needs_background": "light"
     },
     "output_type": "display_data"
    }
   ],
   "source": [
    "# AUC and ROC for the model 1\n",
    "\n",
    "# calculate AUC\n",
    "auc = metrics.roc_auc_score(y_train,Logistic_2.predict(features_train))#keeping only the probabilities for the desired class outcome\n",
    "print('Logistic_2-Train AUC: %.5f' % auc)\n",
    "# # calculate roc curve\n",
    "# from sklearn.metrics import roc_curve\n",
    "fpr, tpr, thresholds = metrics.roc_curve(y_train,Logistic_2.predict(features_train))#keeping only the probabilities for the desired \n",
    "#class outcome\n",
    "plt.plot([0, 1], [0, 1], linestyle='--')\n",
    "# plot the roc curve for the model\n",
    "plt.plot(fpr, tpr, marker='.')\n",
    "# show the plot\n",
    "plt.show()\n",
    "\n",
    "\n",
    "# calculate AUC\n",
    "auc = metrics.roc_auc_score(y_test,Logistic_2.predict(features_test))#keeping only the probabilities for the desired class outcome\n",
    "print('Logistic_2-Test AUC: %.5f' % auc)\n",
    "# # calculate roc curve\n",
    "# from sklearn.metrics import roc_curve\n",
    "fpr, tpr, thresholds = metrics.roc_curve(y_test,Logistic_2.predict(features_test))#keeping only the probabilities for the desired \n",
    "#class outcome\n",
    "plt.plot([0, 1], [0, 1], linestyle='--')\n",
    "# plot the roc curve for the model\n",
    "plt.plot(fpr, tpr, marker='.')\n",
    "# show the plot\n",
    "plt.show()"
   ]
  },
  {
   "cell_type": "code",
   "execution_count": null,
   "metadata": {},
   "outputs": [],
   "source": []
  },
  {
   "cell_type": "markdown",
   "metadata": {},
   "source": [
    "# Iteration 3 - dropping 'economic_cond_household'"
   ]
  },
  {
   "cell_type": "code",
   "execution_count": 341,
   "metadata": {},
   "outputs": [],
   "source": [
    "formula_3='vote~age+economic_cond_national+Blair+Hague+Europe+political_knowledge'"
   ]
  },
  {
   "cell_type": "code",
   "execution_count": 342,
   "metadata": {},
   "outputs": [],
   "source": [
    "features_train=features_train.drop('economic_cond_household',axis=1)\n",
    "features_test=features_test.drop('economic_cond_household',axis=1)"
   ]
  },
  {
   "cell_type": "code",
   "execution_count": 343,
   "metadata": {},
   "outputs": [
    {
     "name": "stdout",
     "output_type": "stream",
     "text": [
      "Optimization terminated successfully.\n",
      "         Current function value: 0.508647\n",
      "         Iterations 6\n"
     ]
    }
   ],
   "source": [
    "Logistic_3 = sm.Logit(y_train,features_train).fit()"
   ]
  },
  {
   "cell_type": "code",
   "execution_count": 344,
   "metadata": {},
   "outputs": [
    {
     "data": {
      "text/html": [
       "<table class=\"simpletable\">\n",
       "<caption>Logit Regression Results</caption>\n",
       "<tr>\n",
       "  <th>Dep. Variable:</th>         <td>vote</td>       <th>  No. Observations:  </th>  <td>  1067</td>  \n",
       "</tr>\n",
       "<tr>\n",
       "  <th>Model:</th>                 <td>Logit</td>      <th>  Df Residuals:      </th>  <td>  1061</td>  \n",
       "</tr>\n",
       "<tr>\n",
       "  <th>Method:</th>                 <td>MLE</td>       <th>  Df Model:          </th>  <td>     5</td>  \n",
       "</tr>\n",
       "<tr>\n",
       "  <th>Date:</th>            <td>Sun, 11 Apr 2021</td> <th>  Pseudo R-squ.:     </th>  <td>0.1704</td>  \n",
       "</tr>\n",
       "<tr>\n",
       "  <th>Time:</th>                <td>16:10:33</td>     <th>  Log-Likelihood:    </th> <td> -542.73</td> \n",
       "</tr>\n",
       "<tr>\n",
       "  <th>converged:</th>             <td>True</td>       <th>  LL-Null:           </th> <td> -654.23</td> \n",
       "</tr>\n",
       "<tr>\n",
       "  <th>Covariance Type:</th>     <td>nonrobust</td>    <th>  LLR p-value:       </th> <td>3.367e-46</td>\n",
       "</tr>\n",
       "</table>\n",
       "<table class=\"simpletable\">\n",
       "<tr>\n",
       "             <td></td>               <th>coef</th>     <th>std err</th>      <th>z</th>      <th>P>|z|</th>  <th>[0.025</th>    <th>0.975]</th>  \n",
       "</tr>\n",
       "<tr>\n",
       "  <th>age</th>                    <td>   -0.2855</td> <td>    0.077</td> <td>   -3.727</td> <td> 0.000</td> <td>   -0.436</td> <td>   -0.135</td>\n",
       "</tr>\n",
       "<tr>\n",
       "  <th>economic_cond_national</th> <td>    0.2534</td> <td>    0.080</td> <td>    3.161</td> <td> 0.002</td> <td>    0.096</td> <td>    0.411</td>\n",
       "</tr>\n",
       "<tr>\n",
       "  <th>Blair</th>                  <td>    0.5849</td> <td>    0.082</td> <td>    7.158</td> <td> 0.000</td> <td>    0.425</td> <td>    0.745</td>\n",
       "</tr>\n",
       "<tr>\n",
       "  <th>Hague</th>                  <td>   -0.8224</td> <td>    0.079</td> <td>  -10.361</td> <td> 0.000</td> <td>   -0.978</td> <td>   -0.667</td>\n",
       "</tr>\n",
       "<tr>\n",
       "  <th>Europe</th>                 <td>   -0.5541</td> <td>    0.080</td> <td>   -6.934</td> <td> 0.000</td> <td>   -0.711</td> <td>   -0.397</td>\n",
       "</tr>\n",
       "<tr>\n",
       "  <th>political_knowledge</th>    <td>   -0.3569</td> <td>    0.076</td> <td>   -4.699</td> <td> 0.000</td> <td>   -0.506</td> <td>   -0.208</td>\n",
       "</tr>\n",
       "</table>"
      ],
      "text/plain": [
       "<class 'statsmodels.iolib.summary.Summary'>\n",
       "\"\"\"\n",
       "                           Logit Regression Results                           \n",
       "==============================================================================\n",
       "Dep. Variable:                   vote   No. Observations:                 1067\n",
       "Model:                          Logit   Df Residuals:                     1061\n",
       "Method:                           MLE   Df Model:                            5\n",
       "Date:                Sun, 11 Apr 2021   Pseudo R-squ.:                  0.1704\n",
       "Time:                        16:10:33   Log-Likelihood:                -542.73\n",
       "converged:                       True   LL-Null:                       -654.23\n",
       "Covariance Type:            nonrobust   LLR p-value:                 3.367e-46\n",
       "==========================================================================================\n",
       "                             coef    std err          z      P>|z|      [0.025      0.975]\n",
       "------------------------------------------------------------------------------------------\n",
       "age                       -0.2855      0.077     -3.727      0.000      -0.436      -0.135\n",
       "economic_cond_national     0.2534      0.080      3.161      0.002       0.096       0.411\n",
       "Blair                      0.5849      0.082      7.158      0.000       0.425       0.745\n",
       "Hague                     -0.8224      0.079    -10.361      0.000      -0.978      -0.667\n",
       "Europe                    -0.5541      0.080     -6.934      0.000      -0.711      -0.397\n",
       "political_knowledge       -0.3569      0.076     -4.699      0.000      -0.506      -0.208\n",
       "==========================================================================================\n",
       "\"\"\""
      ]
     },
     "execution_count": 344,
     "metadata": {},
     "output_type": "execute_result"
    }
   ],
   "source": [
    "Logistic_3.summary()"
   ]
  },
  {
   "cell_type": "code",
   "execution_count": 345,
   "metadata": {},
   "outputs": [],
   "source": [
    "model_3_train_class = Logistic_3.predict(features_train[['age','economic_cond_national','Blair','Hague','Europe','political_knowledge']])\n",
    "model_3_test_class = Logistic_3.predict(features_test[['age','economic_cond_national','Blair','Hague','Europe','political_knowledge']])"
   ]
  },
  {
   "cell_type": "code",
   "execution_count": 346,
   "metadata": {},
   "outputs": [],
   "source": [
    "model_3_train_class = Logistic_3.predict(features_train)\n",
    "model_3_test_class = Logistic_3.predict(features_test)"
   ]
  },
  {
   "cell_type": "code",
   "execution_count": 347,
   "metadata": {},
   "outputs": [
    {
     "data": {
      "text/plain": [
       "1493    1\n",
       "1431    1\n",
       "235     1\n",
       "1078    1\n",
       "735     1\n",
       "       ..\n",
       "531     0\n",
       "624     0\n",
       "515     1\n",
       "545     0\n",
       "406     0\n",
       "Length: 1067, dtype: int32"
      ]
     },
     "execution_count": 347,
     "metadata": {},
     "output_type": "execute_result"
    }
   ],
   "source": [
    "model_3_train_class=(model_3_train_class>=0.5).astype(np.int)\n",
    "model_3_train_class"
   ]
  },
  {
   "cell_type": "code",
   "execution_count": 348,
   "metadata": {},
   "outputs": [
    {
     "data": {
      "text/plain": [
       "1317    0\n",
       "229     1\n",
       "609     1\n",
       "24      0\n",
       "1479    1\n",
       "       ..\n",
       "1287    0\n",
       "780     1\n",
       "636     1\n",
       "664     0\n",
       "265     0\n",
       "Length: 458, dtype: int32"
      ]
     },
     "execution_count": 348,
     "metadata": {},
     "output_type": "execute_result"
    }
   ],
   "source": [
    "model_3_test_class=(model_3_test_class>=0.5).astype(np.int)\n",
    "model_3_test_class"
   ]
  },
  {
   "cell_type": "code",
   "execution_count": 349,
   "metadata": {},
   "outputs": [],
   "source": [
    "from pylab import rcParams\n",
    "rcParams['figure.figsize'] = 15,4"
   ]
  },
  {
   "cell_type": "code",
   "execution_count": 350,
   "metadata": {},
   "outputs": [
    {
     "data": {
      "image/png": "[encoded data removed]",
      "text/plain": [
       "<Figure size 1080x288 with 4 Axes>"
      ]
     },
     "metadata": {
      "needs_background": "light"
     },
     "output_type": "display_data"
    }
   ],
   "source": [
    "f,a =  plt.subplots(1,2,sharex=True,sharey=True,squeeze=False)\n",
    "\n",
    "#Plotting confusion matrix for the models for the Training and Testing Data\n",
    "\n",
    "plot_0 = sns.heatmap((metrics.confusion_matrix(y_train,model_3_train_class)),annot=True,fmt='.5g',cmap='Greys',ax=a[0][0]);\n",
    "a[0][0].set_title('Logistic_3-Train')\n",
    "\n",
    "plot_1 = sns.heatmap((metrics.confusion_matrix(y_test,model_3_test_class)),annot=True,fmt='.5g',cmap='Greys',ax=a[0][1]);\n",
    "a[0][1].set_title('Logistic_3-Test');\n",
    "\n"
   ]
  },
  {
   "cell_type": "code",
   "execution_count": 351,
   "metadata": {},
   "outputs": [
    {
     "name": "stdout",
     "output_type": "stream",
     "text": [
      "Logistic_3-Train\n",
      "True Negative: 277 \n",
      "False Positives: 46 \n",
      "False Negatives: 213 \n",
      "True Positives: 531 \n",
      "\n",
      "\n",
      "Logistic_3-Test\n",
      "True Negative: 130 \n",
      "False Positives: 9 \n",
      "False Negatives: 81 \n",
      "True Positives: 238 \n",
      "\n",
      "\n"
     ]
    }
   ],
   "source": [
    "print('Logistic_3-Train')\n",
    "tn, fp, fn, tp = metrics.confusion_matrix(y_train,model_3_train_class).ravel()\n",
    "print('True Negative:',tn,'\\n''False Positives:' ,fp,'\\n''False Negatives:', fn,'\\n''True Positives:', tp,'\\n\\n')\n",
    "\n",
    "print('Logistic_3-Test')\n",
    "tn, fp, fn, tp = metrics.confusion_matrix(y_test,model_3_test_class).ravel()\n",
    "print('True Negative:',tn,'\\n''False Positives:' ,fp,'\\n''False Negatives:', fn,'\\n''True Positives:', tp,'\\n\\n')"
   ]
  },
  {
   "cell_type": "code",
   "execution_count": 352,
   "metadata": {},
   "outputs": [
    {
     "name": "stdout",
     "output_type": "stream",
     "text": [
      "Logistic_3-Train\n",
      "              precision    recall  f1-score   support\n",
      "\n",
      "           0       0.57      0.86      0.68       323\n",
      "           1       0.92      0.71      0.80       744\n",
      "\n",
      "    accuracy                           0.76      1067\n",
      "   macro avg       0.74      0.79      0.74      1067\n",
      "weighted avg       0.81      0.76      0.77      1067\n",
      " \n",
      "\n",
      "Logistic_3-Test\n",
      "              precision    recall  f1-score   support\n",
      "\n",
      "           0       0.62      0.94      0.74       139\n",
      "           1       0.96      0.75      0.84       319\n",
      "\n",
      "    accuracy                           0.80       458\n",
      "   macro avg       0.79      0.84      0.79       458\n",
      "weighted avg       0.86      0.80      0.81       458\n",
      " \n",
      "\n"
     ]
    }
   ],
   "source": [
    "print('Logistic_3-Train')\n",
    "print(metrics.classification_report(y_train,model_3_train_class),'\\n')\n",
    "\n",
    "print('Logistic_3-Test')\n",
    "print(metrics.classification_report(y_test,model_3_test_class),'\\n')"
   ]
  },
  {
   "cell_type": "code",
   "execution_count": 353,
   "metadata": {},
   "outputs": [],
   "source": [
    "from pylab import rcParams\n",
    "rcParams['figure.figsize'] = 7,4"
   ]
  },
  {
   "cell_type": "code",
   "execution_count": 354,
   "metadata": {},
   "outputs": [
    {
     "name": "stdout",
     "output_type": "stream",
     "text": [
      "Logistic_2-Train AUC: 0.87570\n"
     ]
    },
    {
     "data": {
      "image/png": "[encoded data removed]",
      "text/plain": [
       "<Figure size 504x288 with 1 Axes>"
      ]
     },
     "metadata": {
      "needs_background": "light"
     },
     "output_type": "display_data"
    },
    {
     "name": "stdout",
     "output_type": "stream",
     "text": [
      "Logistic_2-Test AUC: 0.91713\n"
     ]
    },
    {
     "data": {
      "image/png": "[encoded data removed]",
      "text/plain": [
       "<Figure size 504x288 with 1 Axes>"
      ]
     },
     "metadata": {
      "needs_background": "light"
     },
     "output_type": "display_data"
    }
   ],
   "source": [
    "# AUC and ROC for the model 1\n",
    "\n",
    "# calculate AUC\n",
    "auc = metrics.roc_auc_score(y_train,Logistic_3.predict(features_train))#keeping only the probabilities for the desired class outcome\n",
    "print('Logistic_2-Train AUC: %.5f' % auc)\n",
    "# # calculate roc curve\n",
    "# from sklearn.metrics import roc_curve\n",
    "fpr, tpr, thresholds = metrics.roc_curve(y_train,Logistic_3.predict(features_train))#keeping only the probabilities for the desired \n",
    "#class outcome\n",
    "plt.plot([0, 1], [0, 1], linestyle='--')\n",
    "# plot the roc curve for the model\n",
    "plt.plot(fpr, tpr, marker='.')\n",
    "# show the plot\n",
    "plt.show()\n",
    "\n",
    "\n",
    "# calculate AUC\n",
    "auc = metrics.roc_auc_score(y_test,Logistic_3.predict(features_test))#keeping only the probabilities for the desired class outcome\n",
    "print('Logistic_2-Test AUC: %.5f' % auc)\n",
    "# # calculate roc curve\n",
    "# from sklearn.metrics import roc_curve\n",
    "fpr, tpr, thresholds = metrics.roc_curve(y_test,Logistic_3.predict(features_test))#keeping only the probabilities for the desired \n",
    "#class outcome\n",
    "plt.plot([0, 1], [0, 1], linestyle='--')\n",
    "# plot the roc curve for the model\n",
    "plt.plot(fpr, tpr, marker='.')\n",
    "# show the plot\n",
    "plt.show()"
   ]
  },
  {
   "cell_type": "code",
   "execution_count": null,
   "metadata": {},
   "outputs": [],
   "source": []
  }
 ],
 "metadata": {
  "kernelspec": {
   "display_name": "Python 3",
   "language": "python",
   "name": "python3"
  },
  "language_info": {
   "codemirror_mode": {
    "name": "ipython",
    "version": 3
   },
   "file_extension": ".py",
   "mimetype": "text/x-python",
   "name": "python",
   "nbconvert_exporter": "python",
   "pygments_lexer": "ipython3",
   "version": "3.7.7"
  }
 },
 "nbformat": 4,
 "nbformat_minor": 4
}
