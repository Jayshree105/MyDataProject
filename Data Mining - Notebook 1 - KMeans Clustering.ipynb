{
 "cells": [
  {
   "cell_type": "markdown",
   "metadata": {
    "ExecuteTime": {
     "end_time": "2020-03-02T12:37:53.532370Z",
     "start_time": "2020-03-02T12:37:38.846679Z"
    }
   },
   "source": [
    "# K-Means Clustering"
   ]
  },
  {
   "cell_type": "markdown",
   "metadata": {},
   "source": [
    "In K-Means Clustering we have to choose the value of 'K' very accurately by looking at the Within Sum of Squares (WSS)."
   ]
  },
  {
   "cell_type": "code",
   "execution_count": null,
   "metadata": {
    "ExecuteTime": {
     "end_time": "2020-03-02T13:06:30.618600Z",
     "start_time": "2020-03-02T13:06:30.597701Z"
    }
   },
   "outputs": [],
   "source": [
    "import pandas as pd\n",
    "import numpy as np\n",
    "import seaborn as sns\n",
    "from sklearn.cluster import KMeans \n",
    "import matplotlib.pyplot as plt\n",
    "%matplotlib inline"
   ]
  },
  {
   "cell_type": "code",
   "execution_count": null,
   "metadata": {
    "ExecuteTime": {
     "end_time": "2020-03-02T13:06:30.742408Z",
     "start_time": "2020-03-02T13:06:30.628571Z"
    }
   },
   "outputs": [],
   "source": [
    "import os\n",
    "os.getcwd()"
   ]
  },
  {
   "cell_type": "code",
   "execution_count": null,
   "metadata": {
    "ExecuteTime": {
     "end_time": "2020-03-02T13:06:30.926527Z",
     "start_time": "2020-03-02T13:06:30.749388Z"
    }
   },
   "outputs": [],
   "source": [
    "df = pd.read_csv('Europe_Countries.csv')\n",
    "df.head()"
   ]
  },
  {
   "cell_type": "markdown",
   "metadata": {},
   "source": [
    "The data set imported in the last cell is an economic dataset. This data set contains various economic factors for European Countries. All the variables are kind of self-explanatory."
   ]
  },
  {
   "cell_type": "markdown",
   "metadata": {},
   "source": [
    "Let us go ahead and create a new dataframe with only the relevant variables for Clustering."
   ]
  },
  {
   "cell_type": "code",
   "execution_count": null,
   "metadata": {
    "ExecuteTime": {
     "end_time": "2020-03-02T13:06:31.017931Z",
     "start_time": "2020-03-02T13:06:30.928522Z"
    }
   },
   "outputs": [],
   "source": [
    "data = df.iloc[:,1:8]\n",
    "data.head()"
   ]
  },
  {
   "cell_type": "markdown",
   "metadata": {},
   "source": [
    "Since we have seen how to scale the data using the StandardScaler function from sklearn in the codebook of Hierarchical clustering, we will go ahead and do the same for this particular data set as well."
   ]
  },
  {
   "cell_type": "code",
   "execution_count": null,
   "metadata": {
    "ExecuteTime": {
     "end_time": "2020-03-02T13:06:31.128093Z",
     "start_time": "2020-03-02T13:06:31.020925Z"
    }
   },
   "outputs": [],
   "source": [
    "from sklearn.preprocessing import StandardScaler"
   ]
  },
  {
   "cell_type": "code",
   "execution_count": null,
   "metadata": {
    "ExecuteTime": {
     "end_time": "2020-03-02T13:06:31.274127Z",
     "start_time": "2020-03-02T13:06:31.133079Z"
    }
   },
   "outputs": [],
   "source": [
    "# Let us check the scaled data.\n",
    "\n",
    "data_scaled = pd.DataFrame(StandardScaler().fit_transform(data),columns=data.columns)\n",
    "data_scaled.head()"
   ]
  },
  {
   "cell_type": "markdown",
   "metadata": {},
   "source": [
    "Now that we have scaled the data, let us go ahead and perform the K-Means Clustering."
   ]
  },
  {
   "cell_type": "markdown",
   "metadata": {},
   "source": [
    "Since we do not know the value of 'K' i.e. the opitmum number of clusters we will start with 2 clusters and check the Within Sum of Squares (WSS)."
   ]
  },
  {
   "cell_type": "code",
   "execution_count": null,
   "metadata": {
    "ExecuteTime": {
     "end_time": "2020-03-02T13:06:31.362825Z",
     "start_time": "2020-03-02T13:06:31.284039Z"
    }
   },
   "outputs": [],
   "source": [
    "k_means = KMeans(n_clusters = 2)"
   ]
  },
  {
   "cell_type": "code",
   "execution_count": null,
   "metadata": {
    "ExecuteTime": {
     "end_time": "2020-03-02T13:06:31.554217Z",
     "start_time": "2020-03-02T13:06:31.367811Z"
    }
   },
   "outputs": [],
   "source": [
    "clust_2 = k_means.fit_predict(data_scaled)\n",
    "clust_2"
   ]
  },
  {
   "cell_type": "code",
   "execution_count": null,
   "metadata": {
    "ExecuteTime": {
     "end_time": "2020-03-02T13:06:31.655331Z",
     "start_time": "2020-03-02T13:06:31.563124Z"
    }
   },
   "outputs": [],
   "source": [
    "k_means.inertia_"
   ]
  },
  {
   "cell_type": "markdown",
   "metadata": {},
   "source": [
    "The 'inertia' gives us the Within Sum of Squares (WSS) for the number of clusters defined in the KMeans function inside the 'sklearn' library."
   ]
  },
  {
   "cell_type": "markdown",
   "metadata": {},
   "source": [
    "Let us now check the WSS for 3 clusters."
   ]
  },
  {
   "cell_type": "code",
   "execution_count": null,
   "metadata": {
    "ExecuteTime": {
     "end_time": "2020-03-02T13:06:31.824653Z",
     "start_time": "2020-03-02T13:06:31.663315Z"
    }
   },
   "outputs": [],
   "source": [
    "k_means = KMeans(n_clusters = 3)\n",
    "k_means.fit(data_scaled)\n",
    "k_means.inertia_"
   ]
  },
  {
   "cell_type": "markdown",
   "metadata": {},
   "source": [
    "Now, we see that the WSS is decreasing. But it is very cumbersome to manually compute for each value. So, we are going to pass the KMeans function through a loop to automate this process of manually calculating the 'inertia'."
   ]
  },
  {
   "cell_type": "markdown",
   "metadata": {},
   "source": [
    "Let us define an empty list to being the process of automating the calculation of 'inertia'."
   ]
  },
  {
   "cell_type": "code",
   "execution_count": null,
   "metadata": {
    "ExecuteTime": {
     "end_time": "2020-03-02T13:06:31.903081Z",
     "start_time": "2020-03-02T13:06:31.831682Z"
    }
   },
   "outputs": [],
   "source": [
    "wss =[] "
   ]
  },
  {
   "cell_type": "markdown",
   "metadata": {},
   "source": [
    "Now, let us create the loop."
   ]
  },
  {
   "cell_type": "code",
   "execution_count": null,
   "metadata": {
    "ExecuteTime": {
     "end_time": "2020-03-02T13:06:32.569156Z",
     "start_time": "2020-03-02T13:06:31.910014Z"
    }
   },
   "outputs": [],
   "source": [
    "for i in range(2,9): #we are mentioning the range which the value of 'i' should take\n",
    "    KM = KMeans(n_clusters=i) #we are defining the number of clusters which is the same as 'i'\n",
    "    KM.fit(data_scaled) #we are applying the 'fit' function to form the required number of clusters in the dataset\n",
    "    wss.append(KM.inertia_) # we are adding all the values of 'inertia' into the empty list called wss\n",
    "    \n",
    "#In short, we are calculating the value of 'inertia' in every step and storing the same in 'wss'"
   ]
  },
  {
   "cell_type": "markdown",
   "metadata": {},
   "source": [
    "Now, let us print 'wss' and check the values."
   ]
  },
  {
   "cell_type": "code",
   "execution_count": null,
   "metadata": {
    "ExecuteTime": {
     "end_time": "2020-03-02T13:10:37.388152Z",
     "start_time": "2020-03-02T13:10:37.377993Z"
    }
   },
   "outputs": [],
   "source": [
    "# The below code snippet is used to print the WSS values. We have passed it through a loop to make understand the values\n",
    "# of WSS better.\n",
    "\n",
    "for i in range(2,9):\n",
    "    print('The WSS value for',i,'clusters is',wss[i-2])"
   ]
  },
  {
   "cell_type": "code",
   "execution_count": null,
   "metadata": {
    "ExecuteTime": {
     "end_time": "2020-03-02T13:16:30.820661Z",
     "start_time": "2020-03-02T13:16:30.457626Z"
    }
   },
   "outputs": [],
   "source": [
    "plt.plot(range(2,9), wss)\n",
    "plt.grid()\n",
    "plt.title('WSS Plot')\n",
    "plt.xlabel('Number of Clusters')\n",
    "plt.ylabel('WSS Value')\n",
    "plt.show()"
   ]
  },
  {
   "cell_type": "markdown",
   "metadata": {},
   "source": [
    "The ideal 'WSS' plot has to have a sharp elbow like structure. The number of clusters corresponding to that elbow-like graph is considered to be the most optimum.\n",
    "\n",
    "Having said that, here we will go for 4 clusters."
   ]
  },
  {
   "cell_type": "markdown",
   "metadata": {},
   "source": [
    "Let us now store the values of the clusters into a variable and we will attach the particular variable to the data set."
   ]
  },
  {
   "cell_type": "code",
   "execution_count": null,
   "metadata": {
    "ExecuteTime": {
     "end_time": "2020-03-02T13:20:59.833231Z",
     "start_time": "2020-03-02T13:20:59.775424Z"
    }
   },
   "outputs": [],
   "source": [
    "k_means = KMeans(n_clusters = 4)\n",
    "k_means.fit(data_scaled)\n",
    "labels = k_means.labels_\n",
    "labels"
   ]
  },
  {
   "cell_type": "code",
   "execution_count": null,
   "metadata": {
    "ExecuteTime": {
     "end_time": "2020-03-02T13:21:29.743303Z",
     "start_time": "2020-03-02T13:21:29.720287Z"
    }
   },
   "outputs": [],
   "source": [
    "df[\"Clus_kmeans\"] = labels\n",
    "df.head()"
   ]
  },
  {
   "cell_type": "markdown",
   "metadata": {},
   "source": [
    "Now that we have created a new column of clusters, let us export this into a .csv file."
   ]
  },
  {
   "cell_type": "code",
   "execution_count": null,
   "metadata": {
    "ExecuteTime": {
     "end_time": "2020-03-02T13:27:28.862664Z",
     "start_time": "2020-03-02T13:27:28.847702Z"
    }
   },
   "outputs": [],
   "source": [
    "df.to_csv('KMeans_Output.csv')"
   ]
  },
  {
   "cell_type": "markdown",
   "metadata": {},
   "source": [
    "Now, let us compare the different clusters with the average values and try to interpret the problem."
   ]
  },
  {
   "cell_type": "code",
   "execution_count": null,
   "metadata": {
    "ExecuteTime": {
     "end_time": "2020-03-02T13:29:42.910762Z",
     "start_time": "2020-03-02T13:29:42.874795Z"
    }
   },
   "outputs": [],
   "source": [
    "df1 = df.drop(['Country'],axis=1)\n",
    "df_clust = df1.groupby('Clus_kmeans').mean()\n",
    "df_clust = df_clust.reset_index()\n",
    "round(df_clust,0)"
   ]
  },
  {
   "cell_type": "markdown",
   "metadata": {},
   "source": [
    "Let us check the frequency of the occurence of the clusters for each individual cluster."
   ]
  },
  {
   "cell_type": "code",
   "execution_count": null,
   "metadata": {
    "ExecuteTime": {
     "end_time": "2020-03-02T13:30:54.111367Z",
     "start_time": "2020-03-02T13:30:54.095405Z"
    }
   },
   "outputs": [],
   "source": [
    "cluster_freq = df['Clus_kmeans'].value_counts().sort_index()\n",
    "cluster_freq"
   ]
  },
  {
   "cell_type": "code",
   "execution_count": null,
   "metadata": {
    "ExecuteTime": {
     "end_time": "2020-03-02T13:31:52.480775Z",
     "start_time": "2020-03-02T13:31:52.457838Z"
    }
   },
   "outputs": [],
   "source": [
    "df_clust['Frequency'] = cluster_freq.values\n",
    "round(df_clust,0)"
   ]
  }
 ],
 "metadata": {
  "kernelspec": {
   "display_name": "Python 3",
   "language": "python",
   "name": "python3"
  },
  "language_info": {
   "codemirror_mode": {
    "name": "ipython",
    "version": 3
   },
   "file_extension": ".py",
   "mimetype": "text/x-python",
   "name": "python",
   "nbconvert_exporter": "python",
   "pygments_lexer": "ipython3",
   "version": "3.7.6"
  },
  "toc": {
   "base_numbering": 1,
   "nav_menu": {},
   "number_sections": true,
   "sideBar": true,
   "skip_h1_title": false,
   "title_cell": "Table of Contents",
   "title_sidebar": "Contents",
   "toc_cell": false,
   "toc_position": {},
   "toc_section_display": true,
   "toc_window_display": false
  },
  "varInspector": {
   "cols": {
    "lenName": 16,
    "lenType": 16,
    "lenVar": 40
   },
   "kernels_config": {
    "python": {
     "delete_cmd_postfix": "",
     "delete_cmd_prefix": "del ",
     "library": "var_list.py",
     "varRefreshCmd": "print(var_dic_list())"
    },
    "r": {
     "delete_cmd_postfix": ") ",
     "delete_cmd_prefix": "rm(",
     "library": "var_list.r",
     "varRefreshCmd": "cat(var_dic_list()) "
    }
   },
   "types_to_exclude": [
    "module",
    "function",
    "builtin_function_or_method",
    "instance",
    "_Feature"
   ],
   "window_display": false
  }
 },
 "nbformat": 4,
 "nbformat_minor": 2
}
